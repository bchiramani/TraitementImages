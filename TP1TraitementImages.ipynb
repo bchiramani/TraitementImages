{
  "nbformat": 4,
  "nbformat_minor": 0,
  "metadata": {
    "colab": {
      "provenance": [],
      "authorship_tag": "ABX9TyOkqLK0PQdpe5GUWcfRh/Yv",
      "include_colab_link": true
    },
    "kernelspec": {
      "name": "python3",
      "display_name": "Python 3"
    },
    "language_info": {
      "name": "python"
    }
  },
  "cells": [
    {
      "cell_type": "markdown",
      "metadata": {
        "id": "view-in-github",
        "colab_type": "text"
      },
      "source": [
        "<a href=\"https://colab.research.google.com/github/bchiramani/TraitementImages/blob/main/TP1TraitementImages.ipynb\" target=\"_parent\"><img src=\"https://colab.research.google.com/assets/colab-badge.svg\" alt=\"Open In Colab\"/></a>"
      ]
    },
    {
      "cell_type": "code",
      "source": [
        "import numpy as np\n",
        "import array\n",
        "from random import *\n",
        "import pandas as pd\n",
        "import matplotlib.pyplot as plt\n"
      ],
      "metadata": {
        "id": "wr7S5kxX3CPX"
      },
      "execution_count": 41,
      "outputs": []
    },
    {
      "cell_type": "code",
      "source": [
        "def read_pgm(pgm):\n",
        "  (width,height)=pgm.split('\\n')[2].split()\n",
        "  image=[]\n",
        "  for i in range(4,int(height)+4):\n",
        "    data=pgm.split('\\n')[i].split()\n",
        "    image.append(data)\n",
        "  return np.array(image)"
      ],
      "metadata": {
        "id": "1PRm69zy3Dbf"
      },
      "execution_count": 42,
      "outputs": []
    },
    {
      "cell_type": "code",
      "source": [
        "def write_pgm(width,height,filename):\n",
        "  data=\"\"\n",
        "  for i in range(0,height):\n",
        "    for j in range(0,width):\n",
        "      data+=str(randint(0,255))+\" \"\n",
        "    data +=\"\\n\"\n",
        "  fout=open(filename, \"w\")\n",
        "  pgm_header='P2'+'\\n'+str(width)+' '+str(height)+' '+str(255)+'\\n'\n",
        "  fout.write(pgm_header)\n",
        "  fout.write(data)\n",
        "  fout.close()\n"
      ],
      "metadata": {
        "id": "n1QaGGNn7u5z"
      },
      "execution_count": 43,
      "outputs": []
    },
    {
      "cell_type": "code",
      "source": [
        "with open(\"/content/chat.pgm\", 'r') as f :\n",
        "  fichier = f.read()\n",
        "image = read_pgm(fichier)\n",
        "image\n"
      ],
      "metadata": {
        "colab": {
          "base_uri": "https://localhost:8080/"
        },
        "id": "Wgz9NPAy7C1f",
        "outputId": "1d448997-60f8-4d4e-fd50-4b528e170bf8"
      },
      "execution_count": 44,
      "outputs": [
        {
          "output_type": "execute_result",
          "data": {
            "text/plain": [
              "array([['1', '1', '1', ..., '2', '4', '3'],\n",
              "       ['1', '1', '1', ..., '1', '1', '1'],\n",
              "       ['1', '1', '1', ..., '1', '1', '1'],\n",
              "       ...,\n",
              "       ['16', '13', '12', ..., '37', '52', '53'],\n",
              "       ['11', '10', '11', ..., '33', '36', '47'],\n",
              "       ['11', '9', '10', ..., '25', '27', '49']], dtype='<U3')"
            ]
          },
          "metadata": {},
          "execution_count": 44
        }
      ]
    },
    {
      "cell_type": "code",
      "source": [
        "def calculate_mean_std(image):\n",
        "  sum =0\n",
        "  height=image.shape[0]\n",
        "  width=image.shape[1]\n",
        "  for h in range(height):\n",
        "    for w in range(width):\n",
        "      sum+=int(image[h][w])\n",
        "  mean=sum/(height*width)\n",
        "  sum=0\n",
        "  for h in range(height):\n",
        "    for w in range(width):\n",
        "      sum += (int(image[h][w]) - mean)**2\n",
        "  std = (sum/(height*width))**(1/2)\n",
        "  return mean,std\n"
      ],
      "metadata": {
        "id": "mdEK9z2M7Un0"
      },
      "execution_count": 45,
      "outputs": []
    },
    {
      "cell_type": "code",
      "source": [
        "def histogramme_niveaux_de_gris(image):\n",
        "  height = image.shape[0]\n",
        "  width = image.shape[1]\n",
        "  tab = np.zeros((256))\n",
        "  for h in range(height):\n",
        "    for w in range(width):\n",
        "      tab[int(image[h][w])] +=1\n",
        "  index = range(0,256)\n",
        "  plt.figure(figsize=(9, 3))\n",
        "  plt.subplot(131)\n",
        "  plt.bar(x=index,height=tab) ;\n",
        "  return tab"
      ],
      "metadata": {
        "id": "xMxti7hZ-_av"
      },
      "execution_count": 46,
      "outputs": []
    },
    {
      "cell_type": "code",
      "source": [
        "def histogramme_cumule(image):\n",
        "  tab = histogramme_niveaux_de_gris(image)\n",
        "  for i in range(1,256):\n",
        "    tab[i] += tab[i-1]\n",
        "  index = range(0,256)\n",
        "  plt.figure(figsize=(9, 3))\n",
        "  plt.subplot(132)\n",
        "  plt.bar(x=index,height=tab) ;\n",
        "  return tab"
      ],
      "metadata": {
        "id": "RAErcJsT_B9d"
      },
      "execution_count": 47,
      "outputs": []
    },
    {
      "cell_type": "code",
      "source": [
        "def programme(path):\n",
        "  with open(path, 'r') as f :\n",
        "    fichier = f.read()\n",
        "  image = read_pgm(fichier)\n",
        "  mean , std = calculate_mean_std(image)\n",
        "  print(\"La moyenne des niveaux de gris est {} et son écrat type est {}\\n\".format(mean,std))\n",
        "  tab1=histogramme_niveaux_de_gris(image)\n",
        "  tab2=histogramme_cumule(image)"
      ],
      "metadata": {
        "id": "w0BCRLop_QaE"
      },
      "execution_count": 48,
      "outputs": []
    },
    {
      "cell_type": "code",
      "source": [
        "programme(\"/content/chat.pgm\")"
      ],
      "metadata": {
        "colab": {
          "base_uri": "https://localhost:8080/",
          "height": 657
        },
        "id": "yh62EMmX_TD7",
        "outputId": "4fd75718-ab4b-4d21-e707-c83ac26816f3"
      },
      "execution_count": 49,
      "outputs": [
        {
          "output_type": "stream",
          "name": "stdout",
          "text": [
            "La moyenne des niveaux de gris est 85.43944010416666 et son écrat type est 71.04911303252288\n",
            "\n"
          ]
        },
        {
          "output_type": "display_data",
          "data": {
            "text/plain": [
              "<Figure size 648x216 with 1 Axes>"
            ],
            "image/png": "[encoded data removed]"
          },
          "metadata": {
            "needs_background": "light"
          }
        },
        {
          "output_type": "display_data",
          "data": {
            "text/plain": [
              "<Figure size 648x216 with 1 Axes>"
            ],
            "image/png": "[encoded data removed]"
          },
          "metadata": {
            "needs_background": "light"
          }
        },
        {
          "output_type": "display_data",
          "data": {
            "text/plain": [
              "<Figure size 648x216 with 1 Axes>"
            ],
            "image/png": "[encoded data removed]"
          },
          "metadata": {
            "needs_background": "light"
          }
        }
      ]
    },
    {
      "cell_type": "code",
      "source": [],
      "metadata": {
        "id": "hZfkARDb_VRt"
      },
      "execution_count": 40,
      "outputs": []
    }
  ]
}