{
  "nbformat": 4,
  "nbformat_minor": 0,
  "metadata": {
    "colab": {
      "provenance": [],
      "include_colab_link": true
    },
    "kernelspec": {
      "name": "python3",
      "display_name": "Python 3"
    },
    "language_info": {
      "name": "python"
    }
  },
  "cells": [
    {
      "cell_type": "markdown",
      "metadata": {
        "id": "view-in-github",
        "colab_type": "text"
      },
      "source": [
        "<a href=\"https://colab.research.google.com/github/bchiramani/TraitementImages/blob/main/TP1TraitementImages.ipynb\" target=\"_parent\"><img src=\"https://colab.research.google.com/assets/colab-badge.svg\" alt=\"Open In Colab\"/></a>"
      ]
    },
    {
      "cell_type": "code",
      "source": [
        "import numpy as np\n",
        "import array\n",
        "from random import *\n",
        "import pandas as pd\n",
        "import matplotlib.pyplot as plt\n"
      ],
      "metadata": {
        "id": "wr7S5kxX3CPX"
      },
      "execution_count": null,
      "outputs": []
    },
    {
      "cell_type": "markdown",
      "source": [
        "# Read a PGM File"
      ],
      "metadata": {
        "id": "O9ImE0GyglEv"
      }
    },
    {
      "cell_type": "code",
      "source": [
        "def read_pgm(pgm):\n",
        "  (width,height)=pgm.split('\\n')[2].split()\n",
        "  image=[]\n",
        "  for i in range(4,int(height)+4):\n",
        "    data=pgm.split('\\n')[i].split()\n",
        "    image.append(data)\n",
        "  return np.array(image)"
      ],
      "metadata": {
        "id": "1PRm69zy3Dbf"
      },
      "execution_count": null,
      "outputs": []
    },
    {
      "cell_type": "markdown",
      "source": [
        "## Explore some caracteristics\n",
        "\n",
        "\n",
        "*   the mean\n",
        "*   the standard deviation\n",
        "*   Histrogram\n",
        "*   Cumulated histogram\n",
        "\n"
      ],
      "metadata": {
        "id": "xOAgfGYOgxCj"
      }
    },
    {
      "cell_type": "code",
      "source": [
        "def print_histogram(tab):\n",
        "  index = range(0,256)\n",
        "  plt.figure(figsize=(9, 3))\n",
        "  plt.subplot(131)\n",
        "  plt.bar(x=index,height=tab) ;"
      ],
      "metadata": {
        "id": "eK3I4-y8fWzt"
      },
      "execution_count": null,
      "outputs": []
    },
    {
      "cell_type": "code",
      "source": [
        "def calculate_mean_std(image):\n",
        "  sum =0\n",
        "  height=image.shape[0]\n",
        "  width=image.shape[1]\n",
        "  for h in range(height):\n",
        "    for w in range(width):\n",
        "      sum+=int(image[h][w])\n",
        "  mean=sum/(height*width)\n",
        "  sum=0\n",
        "  for h in range(height):\n",
        "    for w in range(width):\n",
        "      sum += (int(image[h][w]) - mean)**2\n",
        "  std = (sum/(height*width))**(1/2)\n",
        "  return mean,std\n"
      ],
      "metadata": {
        "id": "mdEK9z2M7Un0"
      },
      "execution_count": null,
      "outputs": []
    },
    {
      "cell_type": "code",
      "source": [
        "def histogram(image):\n",
        "  height = image.shape[0]\n",
        "  width = image.shape[1]\n",
        "  tab = np.zeros((256))\n",
        "  for h in range(height):\n",
        "    for w in range(width):\n",
        "      tab[int(image[h][w])] +=1\n",
        "  return tab"
      ],
      "metadata": {
        "id": "xMxti7hZ-_av"
      },
      "execution_count": null,
      "outputs": []
    },
    {
      "cell_type": "code",
      "source": [
        "def cumulated_histogram(image):\n",
        "  tab = histogram(image)\n",
        "  for i in range(1,256):\n",
        "    tab[i] += tab[i-1]\n",
        "  return tab"
      ],
      "metadata": {
        "id": "RAErcJsT_B9d"
      },
      "execution_count": null,
      "outputs": []
    },
    {
      "cell_type": "code",
      "source": [
        "def program(path):\n",
        "  with open(path, 'r') as f :\n",
        "    file = f.read()\n",
        "  image = read_pgm(file)\n",
        "  mean , std = calculate_mean_std(image)\n",
        "  print(\"The mean value is {} and the standard deviation is {}\\n\".format(mean,std))\n",
        "  tab1=histogram(image)\n",
        "  print_histogram(tab1)\n",
        "  tab2=cumulated_histogram(image)\n",
        "  print_histogram(tab2)"
      ],
      "metadata": {
        "id": "w0BCRLop_QaE"
      },
      "execution_count": null,
      "outputs": []
    },
    {
      "cell_type": "code",
      "source": [
        "program(\"/content/chat.pgm\")"
      ],
      "metadata": {
        "colab": {
          "base_uri": "https://localhost:8080/",
          "height": 443
        },
        "id": "yh62EMmX_TD7",
        "outputId": "0b0f6912-0f3a-445e-a496-34d2bcb40571"
      },
      "execution_count": null,
      "outputs": [
        {
          "output_type": "stream",
          "name": "stdout",
          "text": [
            "The mean value is 85.43944010416666 and the standard deviation is 71.04911303252288\n",
            "\n"
          ]
        },
        {
          "output_type": "display_data",
          "data": {
            "text/plain": [
              "<Figure size 648x216 with 1 Axes>"
            ],
            "image/png": "[encoded data removed]"
          },
          "metadata": {
            "needs_background": "light"
          }
        },
        {
          "output_type": "display_data",
          "data": {
            "text/plain": [
              "<Figure size 648x216 with 1 Axes>"
            ],
            "image/png": "[encoded data removed]"
          },
          "metadata": {
            "needs_background": "light"
          }
        }
      ]
    },
    {
      "cell_type": "markdown",
      "source": [
        "# Histogram equalization"
      ],
      "metadata": {
        "id": "ncq-pqCShJmJ"
      }
    },
    {
      "cell_type": "code",
      "source": [
        "def probability(image):\n",
        "  height = image.shape[0]\n",
        "  width = image.shape[1]\n",
        "  tab=histogram(image)\n",
        "  tab1 = np.zeros((256))\n",
        "  for i in range(0,tab.size):\n",
        "    tab1[i]=tab[i]/(height*width)\n",
        "  return tab1"
      ],
      "metadata": {
        "id": "hZfkARDb_VRt"
      },
      "execution_count": null,
      "outputs": []
    },
    {
      "cell_type": "code",
      "source": [
        "def cumulated_probability(image):\n",
        "  height = image.shape[0]\n",
        "  width = image.shape[1]\n",
        "  tab=cumulated_histogram(image)\n",
        "  tab1 = np.zeros((256))\n",
        "  for i in range(0,tab.size):\n",
        "    tab1[i]=tab[i]/(height*width)\n",
        "  return tab1"
      ],
      "metadata": {
        "id": "Qn2gIEO2iLlp"
      },
      "execution_count": null,
      "outputs": []
    },
    {
      "cell_type": "code",
      "source": [
        "def function_a(image):\n",
        "  tab=cumulated_probability(image)\n",
        "  tab_a = np.zeros((256))\n",
        "  for i in range(0,tab.size):\n",
        "    tab_a[i]=tab[i]*(255)\n",
        "  return tab_a"
      ],
      "metadata": {
        "id": "idg66uA3iUow"
      },
      "execution_count": null,
      "outputs": []
    },
    {
      "cell_type": "code",
      "source": [
        "def write_pgm(width,height,filename,matrice):\n",
        "  data=\"\"\n",
        "  for i in range(0,height):\n",
        "    for j in range(0,width):\n",
        "      data+=str(matrice[i][j])+\" \"\n",
        "    data +=\"\\n\"\n",
        "  fout=open(filename, \"w\")\n",
        "  pgm_header='P2'+'\\n'+str(width)+' '+str(height)+' '+str(255)+'\\n'\n",
        "  fout.write(pgm_header)\n",
        "  fout.write(data)\n",
        "  fout.close()\n"
      ],
      "metadata": {
        "id": "n1QaGGNn7u5z"
      },
      "execution_count": null,
      "outputs": []
    },
    {
      "cell_type": "code",
      "source": [
        "def equalization_program(path):\n",
        "  tab = np.zeros((256))\n",
        "  tab1 = np.zeros((256))\n",
        "  tab2 = np.zeros((256))\n",
        "  tab2 = np.zeros((256))\n",
        "  tab_a= np.zeros((256))\n",
        "  n1= np.zeros((256))\n",
        "  h_equalized= np.zeros((256))\n",
        "  \n",
        "\n",
        "  with open(path, 'r') as f :\n",
        "    file = f.read()\n",
        "  image = read_pgm(file)\n",
        "\n",
        "  tab=histogram(image)\n",
        "  \n",
        "  tab_a=function_a(image)\n",
        "  for i in range(0 , tab_a.size):\n",
        "    n1[i]=int(tab_a[i])\n",
        "  sum=tab[0]\n",
        "  for i in range(1, 255):\n",
        "    if (n1[i]==n1[i-1]):\n",
        "      sum+=tab[i]\n",
        "    else:\n",
        "      h_equalized[int(n1[i-1])]=sum\n",
        "      sum=tab[i]\n",
        "  print_histogram(tab)\n",
        "  print_histogram(h_equalized)\n",
        "\n",
        "\n",
        "  height = image.shape[0]\n",
        "  width = image.shape[1]\n",
        "  i=0\n",
        "  image1=[]\n",
        "  for h in range(0,height):\n",
        "    im=[]\n",
        "    for w in range(0,width):\n",
        "      im.append(int(n1[int(image[h][w])]))\n",
        "    image1.append(im)\n",
        "    \n",
        "  return(image1)\n",
        "  #print(image1)"
      ],
      "metadata": {
        "id": "495k5MaEiYwt"
      },
      "execution_count": null,
      "outputs": []
    },
    {
      "cell_type": "code",
      "source": [
        "matrice=equalization_program(\"/content/chat.pgm\")\n",
        "write_pgm(320,240,\"chatEgalisé.pgm\",matrice)"
      ],
      "metadata": {
        "colab": {
          "base_uri": "https://localhost:8080/",
          "height": 405
        },
        "id": "YwhMeNEEj1hm",
        "outputId": "177eb2f9-e803-4372-98c3-c17ed58dfff5"
      },
      "execution_count": null,
      "outputs": [
        {
          "output_type": "display_data",
          "data": {
            "text/plain": [
              "<Figure size 648x216 with 1 Axes>"
            ],
            "image/png": "[encoded data removed]"
          },
          "metadata": {
            "needs_background": "light"
          }
        },
        {
          "output_type": "display_data",
          "data": {
            "text/plain": [
              "<Figure size 648x216 with 1 Axes>"
            ],
            "image/png": "[encoded data removed]"
          },
          "metadata": {
            "needs_background": "light"
          }
        }
      ]
    },
    {
      "cell_type": "code",
      "source": [],
      "metadata": {
        "id": "u7sz7Tg1vx9A"
      },
      "execution_count": null,
      "outputs": []
    },
    {
      "cell_type": "markdown",
      "source": [
        "## Linear Transformation"
      ],
      "metadata": {
        "id": "DLyfs6pzxaT8"
      }
    },
    {
      "cell_type": "code",
      "source": [
        "def calcul_coef(x1,y1,x2,y2):\n",
        "  a=(y2-y1)/(x2-x1)\n",
        "  b=y1-a*x1\n",
        "  return a,b\n"
      ],
      "metadata": {
        "id": "4KEMOqU-xfT0"
      },
      "execution_count": null,
      "outputs": []
    },
    {
      "cell_type": "code",
      "source": [
        "def transformation_lineaire(tab,x1,y1,x2,y2):\n",
        "  tab1 = np.zeros((256))\n",
        "  a0,b0=calcul_coef(0,0,x1,y1)\n",
        "  a1,b1=calcul_coef(x1,y1,x2,y2)\n",
        "  a2,b2=calcul_coef(x2,y2,255,255)\n",
        "  for i in range(0,x1):\n",
        "    tab1[i]=int(a0*tab[i]+b0)\n",
        "  for i in range(x1,x2):\n",
        "    tab1[i]=int(a1*tab[i]+b1)\n",
        "  for i in range(x2,255):\n",
        "    tab1[i]=int(a2*tab[i]+b2)\n",
        "  return tab1"
      ],
      "metadata": {
        "id": "0EVe7H7YxgKV"
      },
      "execution_count": null,
      "outputs": []
    },
    {
      "cell_type": "code",
      "source": [
        "def programme_lineaire(path):\n",
        "  with open(path, 'r') as f :\n",
        "    fichier = f.read()\n",
        "  image = read_pgm(fichier)\n",
        "  print_histogram(histogram(image))\n",
        "  tab = np.zeros((256))\n",
        "  for i in range(0,256):\n",
        "    tab[i]=i\n",
        "\n",
        "  result = np.zeros((256))\n",
        "  result=transformation_lineaire(tab,50,100,150,200)\n",
        "\n",
        "  height = image.shape[0]\n",
        "  width = image.shape[1]\n",
        "  i=0\n",
        "  image1=[]\n",
        "  for h in range(0,height):\n",
        "    im=[]\n",
        "    for w in range(0,width):\n",
        "      im.append(int(result[int(image[h][w])]))\n",
        "    image1.append(im)\n",
        "    \n",
        "  return(image1)\n"
      ],
      "metadata": {
        "id": "ZuEFHaXPxjmI"
      },
      "execution_count": null,
      "outputs": []
    },
    {
      "cell_type": "code",
      "source": [
        "matrice=programme_lineaire(\"/content/chat.pgm\")\n",
        "write_pgm(320,240,\"chatLinearisé.pgm\",matrice)\n",
        "\n"
      ],
      "metadata": {
        "colab": {
          "base_uri": "https://localhost:8080/",
          "height": 211
        },
        "id": "R_DJX1mRxopi",
        "outputId": "c644f20c-dd5d-495a-e3ab-7415503445f3"
      },
      "execution_count": null,
      "outputs": [
        {
          "output_type": "display_data",
          "data": {
            "text/plain": [
              "<Figure size 648x216 with 1 Axes>"
            ],
            "image/png": "[encoded data removed]"
          },
          "metadata": {
            "needs_background": "light"
          }
        }
      ]
    },
    {
      "cell_type": "code",
      "source": [
        "with open(\"/content/chatLinearisé.pgm\", 'r') as f :\n",
        "  file = f.read()\n",
        "image = read_pgm(file)\n",
        "tab=histogram(image)\n",
        "print_histogram(tab)"
      ],
      "metadata": {
        "colab": {
          "base_uri": "https://localhost:8080/",
          "height": 356
        },
        "id": "LMI8c0e5GRas",
        "outputId": "db4dd6fe-63e5-44fc-93a2-b8dbef858364"
      },
      "execution_count": null,
      "outputs": [
        {
          "output_type": "error",
          "ename": "ValueError",
          "evalue": "ignored",
          "traceback": [
            "\u001b[0;31m---------------------------------------------------------------------------\u001b[0m",
            "\u001b[0;31mValueError\u001b[0m                                Traceback (most recent call last)",
            "\u001b[0;32m<ipython-input-28-9961d92b93d0>\u001b[0m in \u001b[0;36m<module>\u001b[0;34m\u001b[0m\n\u001b[1;32m      1\u001b[0m \u001b[0;32mwith\u001b[0m \u001b[0mopen\u001b[0m\u001b[0;34m(\u001b[0m\u001b[0;34m\"/content/chatLinearisé.pgm\"\u001b[0m\u001b[0;34m,\u001b[0m \u001b[0;34m'r'\u001b[0m\u001b[0;34m)\u001b[0m \u001b[0;32mas\u001b[0m \u001b[0mf\u001b[0m \u001b[0;34m:\u001b[0m\u001b[0;34m\u001b[0m\u001b[0;34m\u001b[0m\u001b[0m\n\u001b[1;32m      2\u001b[0m   \u001b[0mfile\u001b[0m \u001b[0;34m=\u001b[0m \u001b[0mf\u001b[0m\u001b[0;34m.\u001b[0m\u001b[0mread\u001b[0m\u001b[0;34m(\u001b[0m\u001b[0;34m)\u001b[0m\u001b[0;34m\u001b[0m\u001b[0;34m\u001b[0m\u001b[0m\n\u001b[0;32m----> 3\u001b[0;31m \u001b[0mimage\u001b[0m \u001b[0;34m=\u001b[0m \u001b[0mread_pgm\u001b[0m\u001b[0;34m(\u001b[0m\u001b[0mfile\u001b[0m\u001b[0;34m)\u001b[0m\u001b[0;34m\u001b[0m\u001b[0;34m\u001b[0m\u001b[0m\n\u001b[0m\u001b[1;32m      4\u001b[0m \u001b[0mtab\u001b[0m\u001b[0;34m=\u001b[0m\u001b[0mhistogram\u001b[0m\u001b[0;34m(\u001b[0m\u001b[0mimage\u001b[0m\u001b[0;34m)\u001b[0m\u001b[0;34m\u001b[0m\u001b[0;34m\u001b[0m\u001b[0m\n\u001b[1;32m      5\u001b[0m \u001b[0mprint_histogram\u001b[0m\u001b[0;34m(\u001b[0m\u001b[0mtab\u001b[0m\u001b[0;34m)\u001b[0m\u001b[0;34m\u001b[0m\u001b[0;34m\u001b[0m\u001b[0m\n",
            "\u001b[0;32m<ipython-input-10-69951effd2f3>\u001b[0m in \u001b[0;36mread_pgm\u001b[0;34m(pgm)\u001b[0m\n\u001b[1;32m      1\u001b[0m \u001b[0;32mdef\u001b[0m \u001b[0mread_pgm\u001b[0m\u001b[0;34m(\u001b[0m\u001b[0mpgm\u001b[0m\u001b[0;34m)\u001b[0m\u001b[0;34m:\u001b[0m\u001b[0;34m\u001b[0m\u001b[0;34m\u001b[0m\u001b[0m\n\u001b[0;32m----> 2\u001b[0;31m   \u001b[0;34m(\u001b[0m\u001b[0mwidth\u001b[0m\u001b[0;34m,\u001b[0m\u001b[0mheight\u001b[0m\u001b[0;34m)\u001b[0m\u001b[0;34m=\u001b[0m\u001b[0mpgm\u001b[0m\u001b[0;34m.\u001b[0m\u001b[0msplit\u001b[0m\u001b[0;34m(\u001b[0m\u001b[0;34m'\\n'\u001b[0m\u001b[0;34m)\u001b[0m\u001b[0;34m[\u001b[0m\u001b[0;36m2\u001b[0m\u001b[0;34m]\u001b[0m\u001b[0;34m.\u001b[0m\u001b[0msplit\u001b[0m\u001b[0;34m(\u001b[0m\u001b[0;34m)\u001b[0m\u001b[0;34m\u001b[0m\u001b[0;34m\u001b[0m\u001b[0m\n\u001b[0m\u001b[1;32m      3\u001b[0m   \u001b[0mimage\u001b[0m\u001b[0;34m=\u001b[0m\u001b[0;34m[\u001b[0m\u001b[0;34m]\u001b[0m\u001b[0;34m\u001b[0m\u001b[0;34m\u001b[0m\u001b[0m\n\u001b[1;32m      4\u001b[0m   \u001b[0;32mfor\u001b[0m \u001b[0mi\u001b[0m \u001b[0;32min\u001b[0m \u001b[0mrange\u001b[0m\u001b[0;34m(\u001b[0m\u001b[0;36m4\u001b[0m\u001b[0;34m,\u001b[0m\u001b[0mint\u001b[0m\u001b[0;34m(\u001b[0m\u001b[0mheight\u001b[0m\u001b[0;34m)\u001b[0m\u001b[0;34m+\u001b[0m\u001b[0;36m4\u001b[0m\u001b[0;34m)\u001b[0m\u001b[0;34m:\u001b[0m\u001b[0;34m\u001b[0m\u001b[0;34m\u001b[0m\u001b[0m\n\u001b[1;32m      5\u001b[0m     \u001b[0mdata\u001b[0m\u001b[0;34m=\u001b[0m\u001b[0mpgm\u001b[0m\u001b[0;34m.\u001b[0m\u001b[0msplit\u001b[0m\u001b[0;34m(\u001b[0m\u001b[0;34m'\\n'\u001b[0m\u001b[0;34m)\u001b[0m\u001b[0;34m[\u001b[0m\u001b[0mi\u001b[0m\u001b[0;34m]\u001b[0m\u001b[0;34m.\u001b[0m\u001b[0msplit\u001b[0m\u001b[0;34m(\u001b[0m\u001b[0;34m)\u001b[0m\u001b[0;34m\u001b[0m\u001b[0;34m\u001b[0m\u001b[0m\n",
            "\u001b[0;31mValueError\u001b[0m: too many values to unpack (expected 2)"
          ]
        }
      ]
    },
    {
      "cell_type": "markdown",
      "source": [
        "# Filters"
      ],
      "metadata": {
        "id": "toiwVX86_4xt"
      }
    },
    {
      "cell_type": "code",
      "source": [
        "def generate_nbr(pix):\n",
        "  nbr=randint(0,20)\n",
        "  if(nbr==0):\n",
        "    return 0\n",
        "  if (nbr==20):\n",
        "    return 255\n",
        "  return pix"
      ],
      "metadata": {
        "id": "lIqi9WjuftuD"
      },
      "execution_count": null,
      "outputs": []
    },
    {
      "cell_type": "code",
      "source": [
        "def bruit(image):\n",
        "  height = image.shape[0]\n",
        "  width = image.shape[1]\n",
        "  for i in range(0,height):\n",
        "    for j in range(0,width):\n",
        "      image[i,j]=generate_nbr(image[i,j])\n",
        "  return image\n",
        "  \n",
        "\n",
        "\n"
      ],
      "metadata": {
        "id": "9WTjbm6Ve0Sw"
      },
      "execution_count": null,
      "outputs": []
    },
    {
      "cell_type": "code",
      "source": [
        "def add_padding(filtre,image):\n",
        "  taille= filtre.shape[0]\n",
        "  height = image.shape[0]\n",
        "  width = image.shape[1]\n",
        "  extended_image = np.zeros((height + filtre.shape[0], width + filtre.shape[1]))\n",
        "  for i in range(0, image.shape[0]):\n",
        "    for j in range(0, image.shape[1]):\n",
        "      extended_image [int(filtre.shape[0]/2)+i][int(filtre.shape[1]/2)+j] = image[i][j]\n",
        "\n",
        "  return extended_image\n",
        "      \n",
        "\n",
        "  \n"
      ],
      "metadata": {
        "id": "YBGQn9f6jtJw"
      },
      "execution_count": null,
      "outputs": []
    },
    {
      "cell_type": "code",
      "source": [
        "def convolution(filtre, image, corr):\n",
        "  sum = 0\n",
        "  \n",
        "  for i in range(-int(filtre.shape[0]/2),int(filtre.shape[0]/2)):\n",
        "    for j in range(-int(filtre.shape[1]/2),int(filtre.shape[1]/2)):\n",
        "      sum += image[corr[0]+i ][corr[1] + j] * filtre[int(filtre.shape[0]/2)+i][int(filtre.shape[1]/2)+j]\n",
        "  return int(sum)"
      ],
      "metadata": {
        "id": "QU2Q867qe9Nf"
      },
      "execution_count": null,
      "outputs": []
    },
    {
      "cell_type": "code",
      "source": [
        "def apply_convolution(image,filtre):\n",
        "  image=add_padding(filtre,image)\n",
        "  for i in range(int(filtre.shape[0]/2), image.shape[0]-int(filtre.shape[0]/2)):\n",
        "    for j in range(int(filtre.shape[1]/2), image.shape[1]-int(filtre.shape[1]/2)):\n",
        "      image[i][j] = convolution(filtre, image, (i, j))\n",
        "\n",
        "  return image[int(filtre.shape[0]/2): image.shape[0]+int(filtre.shape[0]/2)][int(filtre.shape[1]/2): image.shape[1]+int(filtre.shape[1]/2)]\n",
        "\n",
        "  "
      ],
      "metadata": {
        "id": "zxYq8LV3l8xC"
      },
      "execution_count": null,
      "outputs": []
    },
    {
      "cell_type": "code",
      "source": [
        "def programme_moyenneur(path,filtre):\n",
        "  with open(path, 'r') as f :\n",
        "    fichier = f.read()\n",
        "  image = read_pgm(fichier)\n",
        "  print(\"original image : \",image)\n",
        "  image_bruit=bruit(image)\n",
        "  print(\"image bruitée : \",image_bruit)\n",
        "  write_pgm(320,240,\"ImageBruité.pgm\",image_bruit)\n",
        "  image_convolue=apply_convolution(image_bruit,filtre)\n",
        "  print(\"image convolue avec ce filtre : \",image_convolue)\n",
        "  return image_convolue\n",
        "\n",
        "  "
      ],
      "metadata": {
        "id": "ZJfCniKDOYnY"
      },
      "execution_count": null,
      "outputs": []
    },
    {
      "cell_type": "markdown",
      "source": [
        "# Filtre moyenneur"
      ],
      "metadata": {
        "id": "ehkFBzY7HYFs"
      }
    },
    {
      "cell_type": "code",
      "source": [
        "filtre=np.ones((3,3))/9\n",
        "filtred_image=programme_moyenneur(\"/content/chat.pgm\",filtre)\n",
        "write_pgm(320,240,\"FiltredchatMoyenneur.pgm\",filtred_image)"
      ],
      "metadata": {
        "colab": {
          "base_uri": "https://localhost:8080/"
        },
        "id": "b7jvFpCUeyCF",
        "outputId": "22fd6ae1-f30c-493d-a981-2b49e98a38ed"
      },
      "execution_count": null,
      "outputs": [
        {
          "output_type": "stream",
          "name": "stdout",
          "text": [
            "original image :  [['1' '1' '1' ... '2' '4' '3']\n",
            " ['1' '1' '1' ... '1' '1' '1']\n",
            " ['1' '1' '1' ... '1' '1' '1']\n",
            " ...\n",
            " ['16' '13' '12' ... '37' '52' '53']\n",
            " ['11' '10' '11' ... '33' '36' '47']\n",
            " ['11' '9' '10' ... '25' '27' '49']]\n",
            "image bruitée :  [['1' '1' '1' ... '2' '4' '3']\n",
            " ['1' '1' '1' ... '1' '1' '255']\n",
            " ['1' '1' '1' ... '1' '1' '1']\n",
            " ...\n",
            " ['16' '13' '12' ... '0' '52' '53']\n",
            " ['11' '10' '11' ... '0' '36' '47']\n",
            " ['11' '9' '10' ... '25' '27' '49']]\n",
            "image convolue avec ce filtre :  [[ 0.  0.  0. ... 28.  3.  0.]\n",
            " [ 0.  0.  0. ...  3.  3.  0.]\n",
            " [ 0.  0.  0. ...  0.  0.  0.]\n",
            " ...\n",
            " [ 0.  1.  1. ...  7.  1.  0.]\n",
            " [ 0.  0.  0. ...  1.  1.  0.]\n",
            " [ 0.  0.  0. ...  0.  0.  0.]]\n"
          ]
        }
      ]
    },
    {
      "cell_type": "markdown",
      "source": [
        "# Filtre Gaussien"
      ],
      "metadata": {
        "id": "eEPHafh2HcXQ"
      }
    },
    {
      "cell_type": "code",
      "source": [
        "filtre=np.array([[1,2,1],[2,4,2],[1,2,1]])/16\n",
        "image_filtred=programme_moyenneur(\"/content/chat.pgm\",filtre)\n",
        "write_pgm(320,240,\"FiltredchatGaussien.pgm\",filtred_image)"
      ],
      "metadata": {
        "id": "ZyM78VN_mAmR",
        "colab": {
          "base_uri": "https://localhost:8080/"
        },
        "outputId": "03f4af9a-d004-4331-a80d-18b9f7bc7659"
      },
      "execution_count": null,
      "outputs": [
        {
          "output_type": "stream",
          "name": "stdout",
          "text": [
            "original image :  [['1' '1' '1' ... '2' '4' '3']\n",
            " ['1' '1' '1' ... '1' '1' '1']\n",
            " ['1' '1' '1' ... '1' '1' '1']\n",
            " ...\n",
            " ['16' '13' '12' ... '37' '52' '53']\n",
            " ['11' '10' '11' ... '33' '36' '47']\n",
            " ['11' '9' '10' ... '25' '27' '49']]\n",
            "image bruitée :  [['1' '1' '1' ... '2' '4' '3']\n",
            " ['1' '1' '1' ... '1' '1' '1']\n",
            " ['1' '1' '1' ... '1' '1' '1']\n",
            " ...\n",
            " ['16' '13' '0' ... '37' '52' '53']\n",
            " ['11' '10' '11' ... '33' '36' '47']\n",
            " ['11' '9' '10' ... '25' '27' '49']]\n",
            "image convolue avec ce filtre :  [[ 0.  0.  0. ...  0.  0.  0.]\n",
            " [ 0.  0.  0. ...  0.  0.  0.]\n",
            " [ 0. 63.  8. ...  0.  0.  0.]\n",
            " ...\n",
            " [ 0.  3.  3. ... 16.  3.  0.]\n",
            " [ 0.  0.  0. ...  2.  1.  0.]\n",
            " [ 0.  0.  0. ...  0.  0.  0.]]\n"
          ]
        }
      ]
    },
    {
      "cell_type": "code",
      "source": [],
      "metadata": {
        "id": "-i7LSNyEHl5r"
      },
      "execution_count": null,
      "outputs": []
    }
  ]
}