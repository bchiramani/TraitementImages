{
  "nbformat": 4,
  "nbformat_minor": 0,
  "metadata": {
    "colab": {
      "provenance": [],
      "collapsed_sections": [
        "DLyfs6pzxaT8"
      ],
      "include_colab_link": true
    },
    "kernelspec": {
      "name": "python3",
      "display_name": "Python 3"
    },
    "language_info": {
      "name": "python"
    }
  },
  "cells": [
    {
      "cell_type": "markdown",
      "metadata": {
        "id": "view-in-github",
        "colab_type": "text"
      },
      "source": [
        "<a href=\"https://colab.research.google.com/github/bchiramani/TraitementImages/blob/main/TP1TraitementImages.ipynb\" target=\"_parent\"><img src=\"https://colab.research.google.com/assets/colab-badge.svg\" alt=\"Open In Colab\"/></a>"
      ]
    },
    {
      "cell_type": "code",
      "source": [
        "import numpy as np\n",
        "import array\n",
        "from random import *\n",
        "import pandas as pd\n",
        "import matplotlib.pyplot as plt\n",
        "from math import log10, sqrt\n",
        "from PIL import Image\n",
        "from matplotlib import cm"
      ],
      "metadata": {
        "id": "wr7S5kxX3CPX"
      },
      "execution_count": 11,
      "outputs": []
    },
    {
      "cell_type": "markdown",
      "source": [
        "# Read a PGM File"
      ],
      "metadata": {
        "id": "O9ImE0GyglEv"
      }
    },
    {
      "cell_type": "code",
      "source": [
        "def read_pgm(path):\n",
        "\n",
        "  with open(path, 'r') as f :\n",
        "    pgm = f.read()\n",
        "  print(type(pgm))\n",
        "  image = np.array([x.split() for x in np.array(pgm.split('\\n'))[4:]])\n",
        "  print(type(image))\n",
        "  return image.astype('int32')"
      ],
      "metadata": {
        "id": "1PRm69zy3Dbf"
      },
      "execution_count": 12,
      "outputs": []
    },
    {
      "cell_type": "markdown",
      "source": [
        "## Explore some caracteristics\n",
        "\n",
        "\n",
        "*   the mean\n",
        "*   the standard deviation\n",
        "*   Histrogram\n",
        "*   Cumulated histogram\n",
        "\n"
      ],
      "metadata": {
        "id": "xOAgfGYOgxCj"
      }
    },
    {
      "cell_type": "code",
      "source": [
        "def display_histogram(tab, title=''):\n",
        "  index = range(0, 256)\n",
        "  plt.figure(figsize=(9, 3))\n",
        "  plt.subplot(131)\n",
        "  plt.bar(x=index, height=tab);\n",
        "  plt.title(title)"
      ],
      "metadata": {
        "id": "eK3I4-y8fWzt"
      },
      "execution_count": 13,
      "outputs": []
    },
    {
      "cell_type": "code",
      "source": [
        "def calculate_mean_std(image):\n",
        "  sum = 0\n",
        "  height = image.shape[0]\n",
        "  width = image.shape[1]\n",
        "  sum = image.sum()\n",
        "  mean = sum / (height * width)\n",
        "  sum = 0\n",
        "  for h in range(height):\n",
        "    for w in range(width):\n",
        "      sum += (int(image[h][w]) - mean) ** 2\n",
        "  std = (sum / (height * width)) ** (1/2)\n",
        "  return mean , std"
      ],
      "metadata": {
        "id": "mdEK9z2M7Un0"
      },
      "execution_count": 14,
      "outputs": []
    },
    {
      "cell_type": "code",
      "source": [
        "def histogram(image):\n",
        "  height = image.shape[0]\n",
        "  width = image.shape[1]\n",
        "  tab = np.zeros((256))\n",
        "  for h in range(height):\n",
        "    for w in range(width):\n",
        "      tab[int(image[h][w])] += 1\n",
        "  return tab"
      ],
      "metadata": {
        "id": "xMxti7hZ-_av"
      },
      "execution_count": 15,
      "outputs": []
    },
    {
      "cell_type": "code",
      "source": [
        "def cumulated_histogram(image):\n",
        "  tab = histogram(image)\n",
        "  for i in range(1, 256):\n",
        "    tab[i] += tab[i-1]\n",
        "  return tab"
      ],
      "metadata": {
        "id": "RAErcJsT_B9d"
      },
      "execution_count": 16,
      "outputs": []
    },
    {
      "cell_type": "code",
      "source": [
        "def generate_histograms(image):\n",
        "\n",
        "  mean , std = calculate_mean_std(image)\n",
        "  print(\"The mean value is {} and the standard deviation is {}\\n\".format(mean, std))\n",
        "  simple_hist = histogram(image)\n",
        "  # display_histogram(simple_hist)\n",
        "  cumulated_hist = cumulated_histogram(image)\n",
        "  # display_histogram(cumulated_hist)\n",
        "  return simple_hist, cumulated_hist"
      ],
      "metadata": {
        "id": "w0BCRLop_QaE"
      },
      "execution_count": 17,
      "outputs": []
    },
    {
      "cell_type": "code",
      "source": [
        "out = read_pgm('/content/chat.pgm')\n",
        "print(out.dtype)"
      ],
      "metadata": {
        "colab": {
          "base_uri": "https://localhost:8080/"
        },
        "id": "yh62EMmX_TD7",
        "outputId": "696f97dd-8148-49c5-8a4e-62ee0cbfea0d"
      },
      "execution_count": 18,
      "outputs": [
        {
          "output_type": "stream",
          "name": "stdout",
          "text": [
            "<class 'str'>\n",
            "<class 'numpy.ndarray'>\n",
            "int32\n"
          ]
        }
      ]
    },
    {
      "cell_type": "markdown",
      "source": [
        "# Histogram equalization"
      ],
      "metadata": {
        "id": "ncq-pqCShJmJ"
      }
    },
    {
      "cell_type": "code",
      "source": [
        "def probability(image):\n",
        "  \n",
        "  height = image.shape[0]\n",
        "  width = image.shape[1]\n",
        "  prob_hist = histogram(image) / (height * width)\n",
        "  return prob_hist"
      ],
      "metadata": {
        "id": "hZfkARDb_VRt"
      },
      "execution_count": 19,
      "outputs": []
    },
    {
      "cell_type": "code",
      "source": [
        "def cumulated_probability(image):\n",
        "  height = image.shape[0]\n",
        "  width = image.shape[1]\n",
        "  cumulated_prob = cumulated_histogram(image) / (height * width)\n",
        "  \n",
        "  return cumulated_prob"
      ],
      "metadata": {
        "id": "Qn2gIEO2iLlp"
      },
      "execution_count": 20,
      "outputs": []
    },
    {
      "cell_type": "code",
      "source": [
        "def function_A(image):\n",
        "  \n",
        "  return cumulated_probability(image) * 255"
      ],
      "metadata": {
        "id": "idg66uA3iUow"
      },
      "execution_count": 21,
      "outputs": []
    },
    {
      "cell_type": "code",
      "source": [
        "def write_pgm(height, width, filename, matrice):\n",
        "  data = \"\"\n",
        "  for i in range(0, height):\n",
        "    for j in range(0, width):\n",
        "      data += str(matrice[i][j]) + \" \"\n",
        "    data +=\"\\n\"\n",
        "  fout = open(filename, \"w\")\n",
        "  pgm_header = 'P2' + '\\n' + str(width) + ' ' + str(height) + ' ' + str(255) + '\\n'\n",
        "  fout.write(pgm_header)\n",
        "  fout.write(data)\n",
        "  fout.close()\n"
      ],
      "metadata": {
        "id": "n1QaGGNn7u5z"
      },
      "execution_count": 22,
      "outputs": []
    },
    {
      "cell_type": "code",
      "source": [
        "def equalize_histogram(hist, image):\n",
        "\n",
        "  equalized_hist = np.zeros((256))\n",
        "  equalized_image = []\n",
        "  sum = hist[0]\n",
        "  height = image.shape[0]\n",
        "  width = image.shape[1]  \n",
        "\n",
        "  n1 = function_A(image).astype('int32')\n",
        "\n",
        "  for i in range(1, 255):\n",
        "    if n1[i] == n1[i-1]:\n",
        "      sum += hist[i]\n",
        "    else:\n",
        "      equalized_hist[n1[i-1]] = sum\n",
        "      sum = hist[i]\n",
        "\n",
        "\n",
        "  display_histogram(hist, 'histogram before equalization')\n",
        "  display_histogram(equalized_hist, 'histogram after equalization')\n",
        "\n",
        "\n",
        "\n",
        "  for h in range(0, height):\n",
        "    row = []\n",
        "    for w in range(0, width):\n",
        "      row.append(n1[image[h][w]])\n",
        "    equalized_image.append(row)\n",
        "    \n",
        "  return(equalized_image)\n"
      ],
      "metadata": {
        "id": "495k5MaEiYwt"
      },
      "execution_count": 23,
      "outputs": []
    },
    {
      "cell_type": "code",
      "source": [
        "def equalize_image(input_path, output_path):\n",
        "  image = read_pgm(input_path)\n",
        "  simple_hist, _ = generate_histograms(image)\n",
        "  matrice = equalize_histogram(simple_hist, image)\n",
        "  write_pgm(image.shape[0] ,image.shape[1] , output_path, matrice)"
      ],
      "metadata": {
        "id": "YwhMeNEEj1hm"
      },
      "execution_count": 24,
      "outputs": []
    },
    {
      "cell_type": "markdown",
      "source": [
        "## Linear Transformation"
      ],
      "metadata": {
        "id": "DLyfs6pzxaT8"
      }
    },
    {
      "cell_type": "code",
      "source": [
        "def calcul_coef(x1, y1, x2, y2):\n",
        "  a = (y2 - y1) / (x2 - x1)\n",
        "  b = y1 - a * x1\n",
        "  return a, b"
      ],
      "metadata": {
        "id": "4KEMOqU-xfT0"
      },
      "execution_count": 25,
      "outputs": []
    },
    {
      "cell_type": "code",
      "source": [
        "def transformation_lineaire(x1, y1, x2, y2):\n",
        "  input = range(0, 256)\n",
        "  transformed = np.zeros((256))\n",
        "  a0, b0 = calcul_coef(0, 0, x1, y1)\n",
        "  a1, b1 = calcul_coef(x1, y1, x2, y2)\n",
        "  a2, b2 = calcul_coef(x2, y2, 255, 255)\n",
        "\n",
        "\n",
        "  transformed[0: x1] = np.array([a0 * x + b0 for x in input[0: x1]])\n",
        "  transformed[x1: x2] = np.array([a1 * x + b1 for x in input[x1: x2]])\n",
        "  transformed[x2: 255] = np.array([a2 * x + b2 for x in input[x2: 255]])\n",
        "\n",
        "  return transformed"
      ],
      "metadata": {
        "id": "0EVe7H7YxgKV"
      },
      "execution_count": 26,
      "outputs": []
    },
    {
      "cell_type": "code",
      "source": [
        "def linear_tranformation(input_path, ouput_path):\n",
        "\n",
        "  image = read_pgm(input_path)\n",
        "  \n",
        "  result = transformation_lineaire(50, 100, 150, 200)\n",
        "\n",
        "  height = image.shape[0]\n",
        "  width = image.shape[1]\n",
        "  transformed_image = []\n",
        "\n",
        "  for h in range(0, height):\n",
        "    row = []\n",
        "    for w in range(0, width):\n",
        "      row.append(result[image[h][w]])\n",
        "    transformed_image.append(row)\n",
        "    \n",
        "  write_pgm(height, width, ouput_path, transformed_image)\n",
        "\n",
        "  return(transformed_image)\n"
      ],
      "metadata": {
        "id": "ZuEFHaXPxjmI"
      },
      "execution_count": 27,
      "outputs": []
    },
    {
      "cell_type": "code",
      "source": [
        "matrice = linear_tranformation(\"/content/chat.pgm\", \"/content/linear_chat.pgm\")"
      ],
      "metadata": {
        "id": "R_DJX1mRxopi",
        "colab": {
          "base_uri": "https://localhost:8080/"
        },
        "outputId": "37416fcc-e76a-4fe8-f035-0eb5d617ebd0"
      },
      "execution_count": 28,
      "outputs": [
        {
          "output_type": "stream",
          "name": "stdout",
          "text": [
            "<class 'str'>\n",
            "<class 'numpy.ndarray'>\n"
          ]
        }
      ]
    },
    {
      "cell_type": "markdown",
      "source": [
        "# Filters"
      ],
      "metadata": {
        "id": "toiwVX86_4xt"
      }
    },
    {
      "cell_type": "code",
      "source": [
        "def generate_nbr(pix):\n",
        "  nbr = randint(0, 20)\n",
        "  if nbr == 0:\n",
        "    return 0\n",
        "  if nbr == 20:\n",
        "    return 255\n",
        "  return pix"
      ],
      "metadata": {
        "id": "lIqi9WjuftuD"
      },
      "execution_count": 29,
      "outputs": []
    },
    {
      "cell_type": "code",
      "source": [
        "def bruit(image):\n",
        "  height = image.shape[0]\n",
        "  width = image.shape[1]\n",
        "  for i in range(0, height):\n",
        "    for j in range(0, width):\n",
        "      image[i, j] = generate_nbr(image[i, j])\n",
        "  return image\n"
      ],
      "metadata": {
        "id": "9WTjbm6Ve0Sw"
      },
      "execution_count": 30,
      "outputs": []
    },
    {
      "cell_type": "code",
      "source": [
        "def add_padding(filtre,image):\n",
        "  taille= filtre.shape[0]\n",
        "  height = image.shape[0]\n",
        "  width = image.shape[1]\n",
        "  extended_image = np.zeros((height + filtre.shape[0], width + filtre.shape[1]))\n",
        "  for i in range(0, image.shape[0]):\n",
        "    for j in range(0, image.shape[1]):\n",
        "      extended_image [int(filtre.shape[0] / 2) + i][int(filtre.shape[1] / 2) + j] = image[i][j]\n",
        "\n",
        "  return extended_image"
      ],
      "metadata": {
        "id": "YBGQn9f6jtJw"
      },
      "execution_count": 31,
      "outputs": []
    },
    {
      "cell_type": "code",
      "source": [
        "def apply_convolution(image, kernel):\n",
        "\n",
        "    kernel = np.flipud(np.fliplr(kernel))    \n",
        "    output = np.zeros_like(image)            \n",
        "    \n",
        "    image_padded = np.zeros((image.shape[0] + (kernel.shape[0]-1), \n",
        "                             image.shape[1] + (kernel.shape[1]-1)))   \n",
        "    image_padded[(kernel.shape[0]//2):-(kernel.shape[0]//2), \n",
        "                 (kernel.shape[1]//2):-(kernel.shape[1]//2)] = image\n",
        "    \n",
        "    for x in range(image.shape[1]):     \n",
        "        for y in range(image.shape[0]):\n",
        "            \n",
        "            output[y,x]=(kernel*image_padded[y:y + kernel.shape[0], x:x + kernel.shape[1]]).sum()\n",
        "    return output"
      ],
      "metadata": {
        "id": "zxYq8LV3l8xC"
      },
      "execution_count": 32,
      "outputs": []
    },
    {
      "cell_type": "code",
      "source": [
        "def apply_linear_filter(path, filtre, filter_name=''):\n",
        "  \n",
        "  image = read_pgm(path)\n",
        "  # print(\"original image : \", image)\n",
        "  image_bruit = bruit(image)\n",
        "  # print(\"image bruitée : \", image_bruit) \n",
        "  write_pgm(image.shape[0], image.shape[1], \"noise_image.pgm\", image_bruit)\n",
        "  image_convolue = apply_convolution(image_bruit, filtre)\n",
        "  # print(\"image convolue avec ce filtre : \", image_convolue)\n",
        "  write_pgm(image_convolue.shape[0], image_convolue.shape[1], '{}_image.pgm'.format(filter_name), image_convolue)\n",
        "\n",
        "  return image_convolue"
      ],
      "metadata": {
        "id": "ZJfCniKDOYnY"
      },
      "execution_count": 33,
      "outputs": []
    },
    {
      "cell_type": "code",
      "source": [
        "def apply_nonlinear_filter(path, kernel_size = (3, 3), filter_name=\"median\"):\n",
        "    image = read_pgm(path)\n",
        "    image_bruit = bruit(image)\n",
        "    write_pgm(image.shape[0], image.shape[1], \"noise_image.pgm\", image_bruit)\n",
        "\n",
        "    output = np.zeros_like(image)            \n",
        "    image_padded = np.zeros((image.shape[0] + (kernel_size[0]-1), \n",
        "                             image.shape[1] + (kernel_size[1]-1)))   \n",
        "    \n",
        "    image_padded[(kernel_size[0]//2):-(kernel_size[0]//2), \n",
        "                 (kernel_size[1]//2):-(kernel_size[1]//2)] = image\n",
        "\n",
        "    for x in range(image.shape[1]):     \n",
        "          for y in range(image.shape[0]):\n",
        "\n",
        "              output[y,x] = np.median(image_padded[y:y + kernel_size[0], x:x + kernel_size[1]])\n",
        "\n",
        "    write_pgm(output.shape[0], output.shape[1], '{}_image.pgm'.format(filter_name), output)\n",
        "    return output"
      ],
      "metadata": {
        "id": "o9R3gkqk9Gge"
      },
      "execution_count": 34,
      "outputs": []
    },
    {
      "cell_type": "markdown",
      "source": [
        "# Filtre moyenneur"
      ],
      "metadata": {
        "id": "ehkFBzY7HYFs"
      }
    },
    {
      "cell_type": "code",
      "source": [
        "def moyenneur(size):\n",
        "  return np.ones((size, size)) / size ** 2"
      ],
      "metadata": {
        "id": "WRoLGNPK5K3e"
      },
      "execution_count": 35,
      "outputs": []
    },
    {
      "cell_type": "code",
      "source": [
        "for k in range(3, 22, 2):\n",
        "  filtre = moyenneur(k)\n",
        "  filtered_image = apply_linear_filter(\"/content/chat.pgm\", filtre, 'moyenneur{}'.format(k))"
      ],
      "metadata": {
        "id": "b7jvFpCUeyCF",
        "colab": {
          "base_uri": "https://localhost:8080/"
        },
        "outputId": "59f5d807-699c-4d26-b11b-da25ce9b5e2b"
      },
      "execution_count": 36,
      "outputs": [
        {
          "output_type": "stream",
          "name": "stdout",
          "text": [
            "<class 'str'>\n",
            "<class 'numpy.ndarray'>\n",
            "<class 'str'>\n",
            "<class 'numpy.ndarray'>\n",
            "<class 'str'>\n",
            "<class 'numpy.ndarray'>\n",
            "<class 'str'>\n",
            "<class 'numpy.ndarray'>\n",
            "<class 'str'>\n",
            "<class 'numpy.ndarray'>\n",
            "<class 'str'>\n",
            "<class 'numpy.ndarray'>\n",
            "<class 'str'>\n",
            "<class 'numpy.ndarray'>\n",
            "<class 'str'>\n",
            "<class 'numpy.ndarray'>\n",
            "<class 'str'>\n",
            "<class 'numpy.ndarray'>\n",
            "<class 'str'>\n",
            "<class 'numpy.ndarray'>\n"
          ]
        }
      ]
    },
    {
      "cell_type": "code",
      "source": [
        "filtre = moyenneur(3)\n",
        "image_filtered_moyenneur = apply_linear_filter(\"/content/chat.pgm\", filtre, 'moyenneur{}'.format(3))"
      ],
      "metadata": {
        "id": "cNAGh4n6Er9o",
        "colab": {
          "base_uri": "https://localhost:8080/"
        },
        "outputId": "214708bb-1aca-425c-b8a5-0a545f39f3df"
      },
      "execution_count": 37,
      "outputs": [
        {
          "output_type": "stream",
          "name": "stdout",
          "text": [
            "<class 'str'>\n",
            "<class 'numpy.ndarray'>\n"
          ]
        }
      ]
    },
    {
      "cell_type": "markdown",
      "source": [
        "# Filtre Median"
      ],
      "metadata": {
        "id": "eEPHafh2HcXQ"
      }
    },
    {
      "cell_type": "code",
      "source": [
        "image_filtered_median = apply_nonlinear_filter(\"/content/chat.pgm\", (3,3), 'median')"
      ],
      "metadata": {
        "id": "ZyM78VN_mAmR",
        "colab": {
          "base_uri": "https://localhost:8080/"
        },
        "outputId": "a979b71c-dfcd-4ba8-f763-817b63121248"
      },
      "execution_count": 38,
      "outputs": [
        {
          "output_type": "stream",
          "name": "stdout",
          "text": [
            "<class 'str'>\n",
            "<class 'numpy.ndarray'>\n"
          ]
        }
      ]
    },
    {
      "cell_type": "markdown",
      "source": [
        "# Filtre Passe Haut"
      ],
      "metadata": {
        "id": "5meLE7_VAF1k"
      }
    },
    {
      "cell_type": "code",
      "source": [
        "filtre = np.array([[0, -1, 0], [-1, 5, -1], [0, -1, 0]])\n",
        "image_filtered_passe_haut = apply_linear_filter(\"/content/chat.pgm\", filtre, 'passehaut')"
      ],
      "metadata": {
        "id": "-i7LSNyEHl5r",
        "colab": {
          "base_uri": "https://localhost:8080/"
        },
        "outputId": "f9d3e495-ff4e-4dc1-c2dc-48cd9229e60f"
      },
      "execution_count": 39,
      "outputs": [
        {
          "output_type": "stream",
          "name": "stdout",
          "text": [
            "<class 'str'>\n",
            "<class 'numpy.ndarray'>\n"
          ]
        }
      ]
    },
    {
      "cell_type": "markdown",
      "source": [
        "# Signal To Noise Ratio"
      ],
      "metadata": {
        "id": "9XuwOE55BgbB"
      }
    },
    {
      "cell_type": "code",
      "source": [
        "def signaltonoise(original, filtered):\n",
        "  mean, _ = calculate_mean_std(original)\n",
        "  upper_part = np.sqrt(((original - mean) ** 2).sum())\n",
        "  lower_part = np.sqrt(((original - filtered) ** 2).sum())\n",
        "  return upper_part / lower_part"
      ],
      "metadata": {
        "id": "dq8eZVw9Am5j"
      },
      "execution_count": 40,
      "outputs": []
    },
    {
      "cell_type": "code",
      "source": [
        "image = read_pgm('/content/chat.pgm')\n",
        "stn_pass_haut = signaltonoise(image, image_filtered_passe_haut)\n",
        "stn_median = signaltonoise(image, image_filtered_median)\n",
        "stn_moyenneur = signaltonoise(image, image_filtered_moyenneur)"
      ],
      "metadata": {
        "id": "XrzrhlpNBrYf",
        "colab": {
          "base_uri": "https://localhost:8080/"
        },
        "outputId": "6f7f590b-e35c-4b0e-f28a-c84bfb1461ee"
      },
      "execution_count": 41,
      "outputs": [
        {
          "output_type": "stream",
          "name": "stdout",
          "text": [
            "<class 'str'>\n",
            "<class 'numpy.ndarray'>\n"
          ]
        }
      ]
    },
    {
      "cell_type": "code",
      "source": [
        "print(stn_pass_haut)\n",
        "print(stn_median)\n",
        "print(stn_moyenneur)"
      ],
      "metadata": {
        "id": "NVxDTpc6CJae",
        "colab": {
          "base_uri": "https://localhost:8080/"
        },
        "outputId": "57174a58-a98c-4f00-c5d6-84296393c22a"
      },
      "execution_count": 42,
      "outputs": [
        {
          "output_type": "stream",
          "name": "stdout",
          "text": [
            "0.2837281919415543\n",
            "8.648409901790869\n",
            "3.7099069950231858\n"
          ]
        }
      ]
    },
    {
      "cell_type": "markdown",
      "source": [
        "## PPM"
      ],
      "metadata": {
        "id": "QfQeXjmikZpV"
      }
    },
    {
      "cell_type": "code",
      "source": [
        "def read_ppm(path):  \n",
        "  with open(path, 'r') as f :\n",
        "    ppm = f.read()\n",
        "  image = np.array([ values.split('\\n')for values in np.array(ppm.split('\\n'))[5:]])\n",
        "  \n",
        "# provisoire\n",
        "  im=image[0][0].split()\n",
        "  print(\"im : \",im)\n",
        "  x=[tuple(im[i:i+3]) for i in range(0, len(im), 3)]\n",
        "\n",
        "# find solution\n",
        "  # rgb=[]\n",
        "  # for im in image:\n",
        "  #   im=im[0].split()\n",
        "  #   x=np.array([tuple(im[i:i+3]) for i in range(0, len(im), 3)])\n",
        "  #   rgb.append(x)\n",
        "\n",
        "\n",
        "\n",
        "\n",
        "\n",
        "  return x \n"
      ],
      "metadata": {
        "id": "Cn2cJyJ3qF0l"
      },
      "execution_count": 43,
      "outputs": []
    },
    {
      "cell_type": "code",
      "source": [
        "rgb = read_ppm(\"/content/peppers.ppm\")\n",
        "print(rgb)\n"
      ],
      "metadata": {
        "colab": {
          "base_uri": "https://localhost:8080/"
        },
        "id": "1IIhVnWIwzdj",
        "outputId": "1736301a-69e9-4600-b218-7128f6a988ec"
      },
      "execution_count": 44,
      "outputs": [
        {
          "output_type": "stream",
          "name": "stdout",
          "text": [
            "im :  ['62', '29', '64', '63', '31', '64', '63', '34', '64', '65', '30', '60', '66', '27', '59', '63', '31', '62', '61', '31', '62', '63', '30', '61', '63', '30', '59', '64', '31', '58', '64', '30', '61', '61', '30', '58', '65', '30', '56', '64', '32', '59', '61', '31', '59', '62', '30', '60', '63', '30', '62', '65', '32', '64', '65', '32', '61', '64', '29', '58', '61', '29', '57', '64', '30', '56', '65', '29', '58', '64', '30', '61', '66', '30', '61', '71', '31', '66', '67', '33', '67', '65', '33', '63', '64', '35', '62', '62', '32', '62', '68', '31', '64', '68', '35', '66', '70', '31', '65', '70', '31', '63', '71', '33', '65', '70', '34', '68', '68', '33', '67', '74', '37', '69', '74', '37', '69', '70', '36', '69', '70', '36', '70', '71', '37', '67', '71', '36', '67', '72', '34', '69', '74', '35', '70', '70', '34', '70', '69', '34', '67', '70', '35', '65', '67', '34', '63', '67', '32', '65', '67', '33', '66', '69', '37', '67', '69', '36', '66', '66', '35', '63', '67', '35', '64', '67', '32', '64', '71', '32', '66', '70', '35', '66', '69', '35', '65', '67', '32', '65', '68', '34', '65', '71', '36', '66', '69', '35', '65', '70', '37', '68', '71', '36', '69', '71', '34', '67', '71', '36', '66', '70', '38', '68', '67', '37', '68', '68', '32', '63', '67', '30', '64', '60', '28', '64', '57', '28', '58', '56', '24', '56', '51', '21', '53', '46', '22', '47', '45', '22', '49', '51', '24', '54', '54', '25', '51', '54', '25', '55', '55', '27', '57', '58', '30', '59', '54', '32', '56', '54', '30', '52', '57', '29', '51', '58', '29', '54', '60', '30', '58', '60', '29', '58', '58', '28', '58', '59', '27', '56', '57', '29', '56', '60', '30', '60', '63', '31', '61', '67', '31', '66', '70', '34', '71', '69', '37', '70', '70', '36', '68', '70', '38', '67', '69', '38', '67', '71', '36', '71', '70', '35', '67', '67', '36', '70', '68', '37', '69', '69', '36', '66', '66', '32', '63', '67', '30', '57', '68', '31', '58', '66', '33', '61', '67', '32', '62', '64', '34', '65', '63', '35', '66', '65', '35', '62', '66', '34', '58', '66', '35', '64', '65', '36', '68', '62', '33', '66', '62', '32', '65', '66', '33', '66', '66', '33', '65', '64', '32', '64', '63', '35', '64', '64', '35', '67', '62', '31', '63', '65', '32', '60', '67', '33', '64', '61', '32', '65', '64', '32', '66', '64', '33', '65', '65', '32', '65', '65', '30', '64', '62', '30', '63', '61', '33', '62', '65', '33', '63', '68', '32', '64', '67', '32', '65', '65', '36', '68', '70', '36', '69', '70', '35', '72', '65', '34', '70', '66', '32', '65', '68', '33', '65', '68', '37', '69', '67', '37', '69', '70', '37', '67', '70', '36', '66', '72', '38', '67', '70', '37', '64', '70', '36', '63', '70', '35', '64', '68', '36', '66', '70', '39', '68', '71', '39', '65', '71', '37', '66', '71', '39', '71', '68', '38', '67', '71', '37', '70', '73', '36', '71', '71', '37', '67', '69', '38', '67', '70', '39', '71', '72', '37', '69', '74', '38', '73', '75', '38', '73', '76', '39', '71', '76', '41', '74', '74', '42', '73', '75', '42', '74', '76', '41', '74', '76', '42', '74', '80', '44', '78', '79', '42', '76', '76', '40', '75', '73', '39', '72', '74', '40', '70', '72', '36', '69', '73', '36', '69', '69', '35', '68', '63', '34', '63', '63', '36', '62', '62', '33', '61', '62', '32', '60', '62', '30', '59', '62', '30', '57', '59', '30', '56', '59', '29', '58', '57', '32', '62', '57', '31', '61', '62', '30', '57', '66', '32', '60', '64', '32', '63', '64', '32', '66', '65', '34', '66', '63', '34', '63', '68', '34', '65', '70', '35', '67', '68', '36', '69', '69', '35', '70', '74', '36', '69', '73', '35', '67', '70', '36', '67', '67', '37', '66', '70', '36', '68', '71', '35', '68', '72', '36', '68', '70', '36', '70', '70', '39', '68', '69', '39', '67', '68', '38', '67', '68', '37', '68', '73', '40', '71', '74', '39', '70', '72', '38', '69', '73', '37', '68', '74', '38', '71', '72', '38', '71', '68', '38', '66', '68', '35', '64', '67', '36', '68', '66', '37', '70', '70', '39', '72', '66', '37', '67', '66', '37', '68', '71', '37', '69', '69', '38', '67', '67', '38', '67', '64', '36', '66', '65', '36', '67', '69', '37', '69', '72', '38', '69', '69', '38', '71', '69', '38', '72', '73', '38', '70', '73', '40', '71', '74', '37', '68', '76', '38', '70', '72', '38', '67', '69', '35', '64', '71', '34', '68', '70', '33', '68', '72', '37', '67', '71', '37', '63', '71', '38', '67', '70', '38', '69', '70', '35', '67', '69', '35', '65', '68', '37', '66', '68', '36', '65', '69', '36', '64', '68', '36', '64', '65', '38', '67']\n",
            "[('62', '29', '64'), ('63', '31', '64'), ('63', '34', '64'), ('65', '30', '60'), ('66', '27', '59'), ('63', '31', '62'), ('61', '31', '62'), ('63', '30', '61'), ('63', '30', '59'), ('64', '31', '58'), ('64', '30', '61'), ('61', '30', '58'), ('65', '30', '56'), ('64', '32', '59'), ('61', '31', '59'), ('62', '30', '60'), ('63', '30', '62'), ('65', '32', '64'), ('65', '32', '61'), ('64', '29', '58'), ('61', '29', '57'), ('64', '30', '56'), ('65', '29', '58'), ('64', '30', '61'), ('66', '30', '61'), ('71', '31', '66'), ('67', '33', '67'), ('65', '33', '63'), ('64', '35', '62'), ('62', '32', '62'), ('68', '31', '64'), ('68', '35', '66'), ('70', '31', '65'), ('70', '31', '63'), ('71', '33', '65'), ('70', '34', '68'), ('68', '33', '67'), ('74', '37', '69'), ('74', '37', '69'), ('70', '36', '69'), ('70', '36', '70'), ('71', '37', '67'), ('71', '36', '67'), ('72', '34', '69'), ('74', '35', '70'), ('70', '34', '70'), ('69', '34', '67'), ('70', '35', '65'), ('67', '34', '63'), ('67', '32', '65'), ('67', '33', '66'), ('69', '37', '67'), ('69', '36', '66'), ('66', '35', '63'), ('67', '35', '64'), ('67', '32', '64'), ('71', '32', '66'), ('70', '35', '66'), ('69', '35', '65'), ('67', '32', '65'), ('68', '34', '65'), ('71', '36', '66'), ('69', '35', '65'), ('70', '37', '68'), ('71', '36', '69'), ('71', '34', '67'), ('71', '36', '66'), ('70', '38', '68'), ('67', '37', '68'), ('68', '32', '63'), ('67', '30', '64'), ('60', '28', '64'), ('57', '28', '58'), ('56', '24', '56'), ('51', '21', '53'), ('46', '22', '47'), ('45', '22', '49'), ('51', '24', '54'), ('54', '25', '51'), ('54', '25', '55'), ('55', '27', '57'), ('58', '30', '59'), ('54', '32', '56'), ('54', '30', '52'), ('57', '29', '51'), ('58', '29', '54'), ('60', '30', '58'), ('60', '29', '58'), ('58', '28', '58'), ('59', '27', '56'), ('57', '29', '56'), ('60', '30', '60'), ('63', '31', '61'), ('67', '31', '66'), ('70', '34', '71'), ('69', '37', '70'), ('70', '36', '68'), ('70', '38', '67'), ('69', '38', '67'), ('71', '36', '71'), ('70', '35', '67'), ('67', '36', '70'), ('68', '37', '69'), ('69', '36', '66'), ('66', '32', '63'), ('67', '30', '57'), ('68', '31', '58'), ('66', '33', '61'), ('67', '32', '62'), ('64', '34', '65'), ('63', '35', '66'), ('65', '35', '62'), ('66', '34', '58'), ('66', '35', '64'), ('65', '36', '68'), ('62', '33', '66'), ('62', '32', '65'), ('66', '33', '66'), ('66', '33', '65'), ('64', '32', '64'), ('63', '35', '64'), ('64', '35', '67'), ('62', '31', '63'), ('65', '32', '60'), ('67', '33', '64'), ('61', '32', '65'), ('64', '32', '66'), ('64', '33', '65'), ('65', '32', '65'), ('65', '30', '64'), ('62', '30', '63'), ('61', '33', '62'), ('65', '33', '63'), ('68', '32', '64'), ('67', '32', '65'), ('65', '36', '68'), ('70', '36', '69'), ('70', '35', '72'), ('65', '34', '70'), ('66', '32', '65'), ('68', '33', '65'), ('68', '37', '69'), ('67', '37', '69'), ('70', '37', '67'), ('70', '36', '66'), ('72', '38', '67'), ('70', '37', '64'), ('70', '36', '63'), ('70', '35', '64'), ('68', '36', '66'), ('70', '39', '68'), ('71', '39', '65'), ('71', '37', '66'), ('71', '39', '71'), ('68', '38', '67'), ('71', '37', '70'), ('73', '36', '71'), ('71', '37', '67'), ('69', '38', '67'), ('70', '39', '71'), ('72', '37', '69'), ('74', '38', '73'), ('75', '38', '73'), ('76', '39', '71'), ('76', '41', '74'), ('74', '42', '73'), ('75', '42', '74'), ('76', '41', '74'), ('76', '42', '74'), ('80', '44', '78'), ('79', '42', '76'), ('76', '40', '75'), ('73', '39', '72'), ('74', '40', '70'), ('72', '36', '69'), ('73', '36', '69'), ('69', '35', '68'), ('63', '34', '63'), ('63', '36', '62'), ('62', '33', '61'), ('62', '32', '60'), ('62', '30', '59'), ('62', '30', '57'), ('59', '30', '56'), ('59', '29', '58'), ('57', '32', '62'), ('57', '31', '61'), ('62', '30', '57'), ('66', '32', '60'), ('64', '32', '63'), ('64', '32', '66'), ('65', '34', '66'), ('63', '34', '63'), ('68', '34', '65'), ('70', '35', '67'), ('68', '36', '69'), ('69', '35', '70'), ('74', '36', '69'), ('73', '35', '67'), ('70', '36', '67'), ('67', '37', '66'), ('70', '36', '68'), ('71', '35', '68'), ('72', '36', '68'), ('70', '36', '70'), ('70', '39', '68'), ('69', '39', '67'), ('68', '38', '67'), ('68', '37', '68'), ('73', '40', '71'), ('74', '39', '70'), ('72', '38', '69'), ('73', '37', '68'), ('74', '38', '71'), ('72', '38', '71'), ('68', '38', '66'), ('68', '35', '64'), ('67', '36', '68'), ('66', '37', '70'), ('70', '39', '72'), ('66', '37', '67'), ('66', '37', '68'), ('71', '37', '69'), ('69', '38', '67'), ('67', '38', '67'), ('64', '36', '66'), ('65', '36', '67'), ('69', '37', '69'), ('72', '38', '69'), ('69', '38', '71'), ('69', '38', '72'), ('73', '38', '70'), ('73', '40', '71'), ('74', '37', '68'), ('76', '38', '70'), ('72', '38', '67'), ('69', '35', '64'), ('71', '34', '68'), ('70', '33', '68'), ('72', '37', '67'), ('71', '37', '63'), ('71', '38', '67'), ('70', '38', '69'), ('70', '35', '67'), ('69', '35', '65'), ('68', '37', '66'), ('68', '36', '65'), ('69', '36', '64'), ('68', '36', '64'), ('65', '38', '67')]\n"
          ]
        }
      ]
    },
    {
      "cell_type": "markdown",
      "source": [
        "# Manual Threasholding"
      ],
      "metadata": {
        "id": "7b2uHdGOWuWk"
      }
    },
    {
      "cell_type": "code",
      "source": [
        "def thresholding(rgb,red,green,blue):\n",
        "  result=[]\n",
        "  for element in rgb:\n",
        "    if int(element[0])>red:\n",
        "      r=255\n",
        "    else:\n",
        "      r=0\n",
        "    if int(element[1])>green:\n",
        "      g=255\n",
        "    else:\n",
        "      g=0\n",
        "    if int(element[2])>blue:\n",
        "      b=255\n",
        "    else:\n",
        "      b=0\n",
        "    x=tuple([r,g,b])\n",
        "    result.append(x)\n",
        "  print(result)\n"
      ],
      "metadata": {
        "id": "hyIoos-Aw4Pd"
      },
      "execution_count": 45,
      "outputs": []
    },
    {
      "cell_type": "code",
      "source": [
        "thresholding(rgb,100,20,30)"
      ],
      "metadata": {
        "id": "nT_kCRcXxhOK",
        "colab": {
          "base_uri": "https://localhost:8080/"
        },
        "outputId": "9e115696-3b2f-469f-e38c-59a16e0cbeaf"
      },
      "execution_count": 46,
      "outputs": [
        {
          "output_type": "stream",
          "name": "stdout",
          "text": [
            "[(0, 255, 255), (0, 255, 255), (0, 255, 255), (0, 255, 255), (0, 255, 255), (0, 255, 255), (0, 255, 255), (0, 255, 255), (0, 255, 255), (0, 255, 255), (0, 255, 255), (0, 255, 255), (0, 255, 255), (0, 255, 255), (0, 255, 255), (0, 255, 255), (0, 255, 255), (0, 255, 255), (0, 255, 255), (0, 255, 255), (0, 255, 255), (0, 255, 255), (0, 255, 255), (0, 255, 255), (0, 255, 255), (0, 255, 255), (0, 255, 255), (0, 255, 255), (0, 255, 255), (0, 255, 255), (0, 255, 255), (0, 255, 255), (0, 255, 255), (0, 255, 255), (0, 255, 255), (0, 255, 255), (0, 255, 255), (0, 255, 255), (0, 255, 255), (0, 255, 255), (0, 255, 255), (0, 255, 255), (0, 255, 255), (0, 255, 255), (0, 255, 255), (0, 255, 255), (0, 255, 255), (0, 255, 255), (0, 255, 255), (0, 255, 255), (0, 255, 255), (0, 255, 255), (0, 255, 255), (0, 255, 255), (0, 255, 255), (0, 255, 255), (0, 255, 255), (0, 255, 255), (0, 255, 255), (0, 255, 255), (0, 255, 255), (0, 255, 255), (0, 255, 255), (0, 255, 255), (0, 255, 255), (0, 255, 255), (0, 255, 255), (0, 255, 255), (0, 255, 255), (0, 255, 255), (0, 255, 255), (0, 255, 255), (0, 255, 255), (0, 255, 255), (0, 255, 255), (0, 255, 255), (0, 255, 255), (0, 255, 255), (0, 255, 255), (0, 255, 255), (0, 255, 255), (0, 255, 255), (0, 255, 255), (0, 255, 255), (0, 255, 255), (0, 255, 255), (0, 255, 255), (0, 255, 255), (0, 255, 255), (0, 255, 255), (0, 255, 255), (0, 255, 255), (0, 255, 255), (0, 255, 255), (0, 255, 255), (0, 255, 255), (0, 255, 255), (0, 255, 255), (0, 255, 255), (0, 255, 255), (0, 255, 255), (0, 255, 255), (0, 255, 255), (0, 255, 255), (0, 255, 255), (0, 255, 255), (0, 255, 255), (0, 255, 255), (0, 255, 255), (0, 255, 255), (0, 255, 255), (0, 255, 255), (0, 255, 255), (0, 255, 255), (0, 255, 255), (0, 255, 255), (0, 255, 255), (0, 255, 255), (0, 255, 255), (0, 255, 255), (0, 255, 255), (0, 255, 255), (0, 255, 255), (0, 255, 255), (0, 255, 255), (0, 255, 255), (0, 255, 255), (0, 255, 255), (0, 255, 255), (0, 255, 255), (0, 255, 255), (0, 255, 255), (0, 255, 255), (0, 255, 255), (0, 255, 255), (0, 255, 255), (0, 255, 255), (0, 255, 255), (0, 255, 255), (0, 255, 255), (0, 255, 255), (0, 255, 255), (0, 255, 255), (0, 255, 255), (0, 255, 255), (0, 255, 255), (0, 255, 255), (0, 255, 255), (0, 255, 255), (0, 255, 255), (0, 255, 255), (0, 255, 255), (0, 255, 255), (0, 255, 255), (0, 255, 255), (0, 255, 255), (0, 255, 255), (0, 255, 255), (0, 255, 255), (0, 255, 255), (0, 255, 255), (0, 255, 255), (0, 255, 255), (0, 255, 255), (0, 255, 255), (0, 255, 255), (0, 255, 255), (0, 255, 255), (0, 255, 255), (0, 255, 255), (0, 255, 255), (0, 255, 255), (0, 255, 255), (0, 255, 255), (0, 255, 255), (0, 255, 255), (0, 255, 255), (0, 255, 255), (0, 255, 255), (0, 255, 255), (0, 255, 255), (0, 255, 255), (0, 255, 255), (0, 255, 255), (0, 255, 255), (0, 255, 255), (0, 255, 255), (0, 255, 255), (0, 255, 255), (0, 255, 255), (0, 255, 255), (0, 255, 255), (0, 255, 255), (0, 255, 255), (0, 255, 255), (0, 255, 255), (0, 255, 255), (0, 255, 255), (0, 255, 255), (0, 255, 255), (0, 255, 255), (0, 255, 255), (0, 255, 255), (0, 255, 255), (0, 255, 255), (0, 255, 255), (0, 255, 255), (0, 255, 255), (0, 255, 255), (0, 255, 255), (0, 255, 255), (0, 255, 255), (0, 255, 255), (0, 255, 255), (0, 255, 255), (0, 255, 255), (0, 255, 255), (0, 255, 255), (0, 255, 255), (0, 255, 255), (0, 255, 255), (0, 255, 255), (0, 255, 255), (0, 255, 255), (0, 255, 255), (0, 255, 255), (0, 255, 255), (0, 255, 255), (0, 255, 255), (0, 255, 255), (0, 255, 255), (0, 255, 255), (0, 255, 255), (0, 255, 255), (0, 255, 255), (0, 255, 255), (0, 255, 255), (0, 255, 255), (0, 255, 255), (0, 255, 255), (0, 255, 255), (0, 255, 255), (0, 255, 255), (0, 255, 255), (0, 255, 255), (0, 255, 255), (0, 255, 255), (0, 255, 255), (0, 255, 255), (0, 255, 255)]\n"
          ]
        }
      ]
    },
    {
      "cell_type": "code",
      "source": [
        "def thresholding(rgb,red,green,blue,option):\n",
        "  print(rgb)\n",
        "  result=[]\n",
        "  if option==\"ET\":\n",
        "    for element in rgb:\n",
        "      if((int(element[0])>red )& (int(element[1])>green) &( int(element[2])>blue)):\n",
        "        result.append(element)\n",
        "      else:\n",
        "        result.append(tuple([255,255,255]))\n",
        "  elif option == \"OU\": \n",
        "    for element in rgb:\n",
        "      if((int(element[0])>red) | (int(element[1])>green) | (int(element[2])>blue)):\n",
        "        result.append(element)\n",
        "      else:\n",
        "        result.append(tuple([255,255,255]))\n",
        "\n",
        "  print(result)\n"
      ],
      "metadata": {
        "id": "P621TbrLQsWu"
      },
      "execution_count": 47,
      "outputs": []
    },
    {
      "cell_type": "code",
      "source": [
        "thresholding(rgb,62,20,30,\"ET\")"
      ],
      "metadata": {
        "colab": {
          "base_uri": "https://localhost:8080/"
        },
        "id": "b1lFsOcXTN6_",
        "outputId": "1c4bec45-9aa9-45b1-cec5-d39e81e87bca"
      },
      "execution_count": 48,
      "outputs": [
        {
          "output_type": "stream",
          "name": "stdout",
          "text": [
            "[('62', '29', '64'), ('63', '31', '64'), ('63', '34', '64'), ('65', '30', '60'), ('66', '27', '59'), ('63', '31', '62'), ('61', '31', '62'), ('63', '30', '61'), ('63', '30', '59'), ('64', '31', '58'), ('64', '30', '61'), ('61', '30', '58'), ('65', '30', '56'), ('64', '32', '59'), ('61', '31', '59'), ('62', '30', '60'), ('63', '30', '62'), ('65', '32', '64'), ('65', '32', '61'), ('64', '29', '58'), ('61', '29', '57'), ('64', '30', '56'), ('65', '29', '58'), ('64', '30', '61'), ('66', '30', '61'), ('71', '31', '66'), ('67', '33', '67'), ('65', '33', '63'), ('64', '35', '62'), ('62', '32', '62'), ('68', '31', '64'), ('68', '35', '66'), ('70', '31', '65'), ('70', '31', '63'), ('71', '33', '65'), ('70', '34', '68'), ('68', '33', '67'), ('74', '37', '69'), ('74', '37', '69'), ('70', '36', '69'), ('70', '36', '70'), ('71', '37', '67'), ('71', '36', '67'), ('72', '34', '69'), ('74', '35', '70'), ('70', '34', '70'), ('69', '34', '67'), ('70', '35', '65'), ('67', '34', '63'), ('67', '32', '65'), ('67', '33', '66'), ('69', '37', '67'), ('69', '36', '66'), ('66', '35', '63'), ('67', '35', '64'), ('67', '32', '64'), ('71', '32', '66'), ('70', '35', '66'), ('69', '35', '65'), ('67', '32', '65'), ('68', '34', '65'), ('71', '36', '66'), ('69', '35', '65'), ('70', '37', '68'), ('71', '36', '69'), ('71', '34', '67'), ('71', '36', '66'), ('70', '38', '68'), ('67', '37', '68'), ('68', '32', '63'), ('67', '30', '64'), ('60', '28', '64'), ('57', '28', '58'), ('56', '24', '56'), ('51', '21', '53'), ('46', '22', '47'), ('45', '22', '49'), ('51', '24', '54'), ('54', '25', '51'), ('54', '25', '55'), ('55', '27', '57'), ('58', '30', '59'), ('54', '32', '56'), ('54', '30', '52'), ('57', '29', '51'), ('58', '29', '54'), ('60', '30', '58'), ('60', '29', '58'), ('58', '28', '58'), ('59', '27', '56'), ('57', '29', '56'), ('60', '30', '60'), ('63', '31', '61'), ('67', '31', '66'), ('70', '34', '71'), ('69', '37', '70'), ('70', '36', '68'), ('70', '38', '67'), ('69', '38', '67'), ('71', '36', '71'), ('70', '35', '67'), ('67', '36', '70'), ('68', '37', '69'), ('69', '36', '66'), ('66', '32', '63'), ('67', '30', '57'), ('68', '31', '58'), ('66', '33', '61'), ('67', '32', '62'), ('64', '34', '65'), ('63', '35', '66'), ('65', '35', '62'), ('66', '34', '58'), ('66', '35', '64'), ('65', '36', '68'), ('62', '33', '66'), ('62', '32', '65'), ('66', '33', '66'), ('66', '33', '65'), ('64', '32', '64'), ('63', '35', '64'), ('64', '35', '67'), ('62', '31', '63'), ('65', '32', '60'), ('67', '33', '64'), ('61', '32', '65'), ('64', '32', '66'), ('64', '33', '65'), ('65', '32', '65'), ('65', '30', '64'), ('62', '30', '63'), ('61', '33', '62'), ('65', '33', '63'), ('68', '32', '64'), ('67', '32', '65'), ('65', '36', '68'), ('70', '36', '69'), ('70', '35', '72'), ('65', '34', '70'), ('66', '32', '65'), ('68', '33', '65'), ('68', '37', '69'), ('67', '37', '69'), ('70', '37', '67'), ('70', '36', '66'), ('72', '38', '67'), ('70', '37', '64'), ('70', '36', '63'), ('70', '35', '64'), ('68', '36', '66'), ('70', '39', '68'), ('71', '39', '65'), ('71', '37', '66'), ('71', '39', '71'), ('68', '38', '67'), ('71', '37', '70'), ('73', '36', '71'), ('71', '37', '67'), ('69', '38', '67'), ('70', '39', '71'), ('72', '37', '69'), ('74', '38', '73'), ('75', '38', '73'), ('76', '39', '71'), ('76', '41', '74'), ('74', '42', '73'), ('75', '42', '74'), ('76', '41', '74'), ('76', '42', '74'), ('80', '44', '78'), ('79', '42', '76'), ('76', '40', '75'), ('73', '39', '72'), ('74', '40', '70'), ('72', '36', '69'), ('73', '36', '69'), ('69', '35', '68'), ('63', '34', '63'), ('63', '36', '62'), ('62', '33', '61'), ('62', '32', '60'), ('62', '30', '59'), ('62', '30', '57'), ('59', '30', '56'), ('59', '29', '58'), ('57', '32', '62'), ('57', '31', '61'), ('62', '30', '57'), ('66', '32', '60'), ('64', '32', '63'), ('64', '32', '66'), ('65', '34', '66'), ('63', '34', '63'), ('68', '34', '65'), ('70', '35', '67'), ('68', '36', '69'), ('69', '35', '70'), ('74', '36', '69'), ('73', '35', '67'), ('70', '36', '67'), ('67', '37', '66'), ('70', '36', '68'), ('71', '35', '68'), ('72', '36', '68'), ('70', '36', '70'), ('70', '39', '68'), ('69', '39', '67'), ('68', '38', '67'), ('68', '37', '68'), ('73', '40', '71'), ('74', '39', '70'), ('72', '38', '69'), ('73', '37', '68'), ('74', '38', '71'), ('72', '38', '71'), ('68', '38', '66'), ('68', '35', '64'), ('67', '36', '68'), ('66', '37', '70'), ('70', '39', '72'), ('66', '37', '67'), ('66', '37', '68'), ('71', '37', '69'), ('69', '38', '67'), ('67', '38', '67'), ('64', '36', '66'), ('65', '36', '67'), ('69', '37', '69'), ('72', '38', '69'), ('69', '38', '71'), ('69', '38', '72'), ('73', '38', '70'), ('73', '40', '71'), ('74', '37', '68'), ('76', '38', '70'), ('72', '38', '67'), ('69', '35', '64'), ('71', '34', '68'), ('70', '33', '68'), ('72', '37', '67'), ('71', '37', '63'), ('71', '38', '67'), ('70', '38', '69'), ('70', '35', '67'), ('69', '35', '65'), ('68', '37', '66'), ('68', '36', '65'), ('69', '36', '64'), ('68', '36', '64'), ('65', '38', '67')]\n",
            "[(255, 255, 255), ('63', '31', '64'), ('63', '34', '64'), ('65', '30', '60'), ('66', '27', '59'), ('63', '31', '62'), (255, 255, 255), ('63', '30', '61'), ('63', '30', '59'), ('64', '31', '58'), ('64', '30', '61'), (255, 255, 255), ('65', '30', '56'), ('64', '32', '59'), (255, 255, 255), (255, 255, 255), ('63', '30', '62'), ('65', '32', '64'), ('65', '32', '61'), ('64', '29', '58'), (255, 255, 255), ('64', '30', '56'), ('65', '29', '58'), ('64', '30', '61'), ('66', '30', '61'), ('71', '31', '66'), ('67', '33', '67'), ('65', '33', '63'), ('64', '35', '62'), (255, 255, 255), ('68', '31', '64'), ('68', '35', '66'), ('70', '31', '65'), ('70', '31', '63'), ('71', '33', '65'), ('70', '34', '68'), ('68', '33', '67'), ('74', '37', '69'), ('74', '37', '69'), ('70', '36', '69'), ('70', '36', '70'), ('71', '37', '67'), ('71', '36', '67'), ('72', '34', '69'), ('74', '35', '70'), ('70', '34', '70'), ('69', '34', '67'), ('70', '35', '65'), ('67', '34', '63'), ('67', '32', '65'), ('67', '33', '66'), ('69', '37', '67'), ('69', '36', '66'), ('66', '35', '63'), ('67', '35', '64'), ('67', '32', '64'), ('71', '32', '66'), ('70', '35', '66'), ('69', '35', '65'), ('67', '32', '65'), ('68', '34', '65'), ('71', '36', '66'), ('69', '35', '65'), ('70', '37', '68'), ('71', '36', '69'), ('71', '34', '67'), ('71', '36', '66'), ('70', '38', '68'), ('67', '37', '68'), ('68', '32', '63'), ('67', '30', '64'), (255, 255, 255), (255, 255, 255), (255, 255, 255), (255, 255, 255), (255, 255, 255), (255, 255, 255), (255, 255, 255), (255, 255, 255), (255, 255, 255), (255, 255, 255), (255, 255, 255), (255, 255, 255), (255, 255, 255), (255, 255, 255), (255, 255, 255), (255, 255, 255), (255, 255, 255), (255, 255, 255), (255, 255, 255), (255, 255, 255), (255, 255, 255), ('63', '31', '61'), ('67', '31', '66'), ('70', '34', '71'), ('69', '37', '70'), ('70', '36', '68'), ('70', '38', '67'), ('69', '38', '67'), ('71', '36', '71'), ('70', '35', '67'), ('67', '36', '70'), ('68', '37', '69'), ('69', '36', '66'), ('66', '32', '63'), ('67', '30', '57'), ('68', '31', '58'), ('66', '33', '61'), ('67', '32', '62'), ('64', '34', '65'), ('63', '35', '66'), ('65', '35', '62'), ('66', '34', '58'), ('66', '35', '64'), ('65', '36', '68'), (255, 255, 255), (255, 255, 255), ('66', '33', '66'), ('66', '33', '65'), ('64', '32', '64'), ('63', '35', '64'), ('64', '35', '67'), (255, 255, 255), ('65', '32', '60'), ('67', '33', '64'), (255, 255, 255), ('64', '32', '66'), ('64', '33', '65'), ('65', '32', '65'), ('65', '30', '64'), (255, 255, 255), (255, 255, 255), ('65', '33', '63'), ('68', '32', '64'), ('67', '32', '65'), ('65', '36', '68'), ('70', '36', '69'), ('70', '35', '72'), ('65', '34', '70'), ('66', '32', '65'), ('68', '33', '65'), ('68', '37', '69'), ('67', '37', '69'), ('70', '37', '67'), ('70', '36', '66'), ('72', '38', '67'), ('70', '37', '64'), ('70', '36', '63'), ('70', '35', '64'), ('68', '36', '66'), ('70', '39', '68'), ('71', '39', '65'), ('71', '37', '66'), ('71', '39', '71'), ('68', '38', '67'), ('71', '37', '70'), ('73', '36', '71'), ('71', '37', '67'), ('69', '38', '67'), ('70', '39', '71'), ('72', '37', '69'), ('74', '38', '73'), ('75', '38', '73'), ('76', '39', '71'), ('76', '41', '74'), ('74', '42', '73'), ('75', '42', '74'), ('76', '41', '74'), ('76', '42', '74'), ('80', '44', '78'), ('79', '42', '76'), ('76', '40', '75'), ('73', '39', '72'), ('74', '40', '70'), ('72', '36', '69'), ('73', '36', '69'), ('69', '35', '68'), ('63', '34', '63'), ('63', '36', '62'), (255, 255, 255), (255, 255, 255), (255, 255, 255), (255, 255, 255), (255, 255, 255), (255, 255, 255), (255, 255, 255), (255, 255, 255), (255, 255, 255), ('66', '32', '60'), ('64', '32', '63'), ('64', '32', '66'), ('65', '34', '66'), ('63', '34', '63'), ('68', '34', '65'), ('70', '35', '67'), ('68', '36', '69'), ('69', '35', '70'), ('74', '36', '69'), ('73', '35', '67'), ('70', '36', '67'), ('67', '37', '66'), ('70', '36', '68'), ('71', '35', '68'), ('72', '36', '68'), ('70', '36', '70'), ('70', '39', '68'), ('69', '39', '67'), ('68', '38', '67'), ('68', '37', '68'), ('73', '40', '71'), ('74', '39', '70'), ('72', '38', '69'), ('73', '37', '68'), ('74', '38', '71'), ('72', '38', '71'), ('68', '38', '66'), ('68', '35', '64'), ('67', '36', '68'), ('66', '37', '70'), ('70', '39', '72'), ('66', '37', '67'), ('66', '37', '68'), ('71', '37', '69'), ('69', '38', '67'), ('67', '38', '67'), ('64', '36', '66'), ('65', '36', '67'), ('69', '37', '69'), ('72', '38', '69'), ('69', '38', '71'), ('69', '38', '72'), ('73', '38', '70'), ('73', '40', '71'), ('74', '37', '68'), ('76', '38', '70'), ('72', '38', '67'), ('69', '35', '64'), ('71', '34', '68'), ('70', '33', '68'), ('72', '37', '67'), ('71', '37', '63'), ('71', '38', '67'), ('70', '38', '69'), ('70', '35', '67'), ('69', '35', '65'), ('68', '37', '66'), ('68', '36', '65'), ('69', '36', '64'), ('68', '36', '64'), ('65', '38', '67')]\n"
          ]
        }
      ]
    },
    {
      "cell_type": "markdown",
      "source": [
        "# Automatic Threasholding"
      ],
      "metadata": {
        "id": "fB69zF5fWztc"
      }
    },
    {
      "cell_type": "code",
      "source": [
        "def hitogram_ppm(im):\n",
        "  hist_red=np.zeros((255))\n",
        "  for element in im:\n",
        "    hist_red[int(element[0])] += 1\n",
        "  hist_green=np.zeros((255))\n",
        "  for element in im:\n",
        "    hist_green[int(element[0])] += 1\n",
        "  hist_blue=np.zeros((255))\n",
        "  for element in im:\n",
        "    hist_blue[int(element[0])] += 1\n",
        "  index = range(0,255)\n",
        "\n",
        "  histcum_red=np.zeros((255))\n",
        "  histcum_green=np.zeros((255))\n",
        "  histcum_blue=np.zeros((255))\n",
        "  for i in range(0,254):\n",
        "    histcum_red[i]=hist_red[i]+hist_red[i-1]\n",
        "    histcum_green[i]=hist_green[i]+hist_green[i-1]\n",
        "    histcum_blue[i]=hist_blue[i]+hist_blue[i-1]\n",
        "  #plt.bar(index, histcum_red) ; plt.show()\n",
        "  print(histcum_red)"
      ],
      "metadata": {
        "id": "j_Hj28j0TXKC"
      },
      "execution_count": 62,
      "outputs": []
    },
    {
      "cell_type": "code",
      "source": [
        "hitogram_ppm(rgb)\n",
        "seuil_red=input('donner selon le seuil red: ')\n",
        "seuil_green=input('donner selon le seuil green: ')\n",
        "seuil_blue=input('donner selon le seuil blue: ')\n",
        "thresholding(rgb,seuil_red,seuil_green,seuil_blue)"
      ],
      "metadata": {
        "id": "mEiH72-eXVgW",
        "colab": {
          "base_uri": "https://localhost:8080/",
          "height": 512
        },
        "outputId": "d6499b7c-809b-45da-d3ad-4ebc1d0424d7"
      },
      "execution_count": 64,
      "outputs": [
        {
          "name": "stdout",
          "output_type": "stream",
          "text": [
            "[ 0.  0.  0.  0.  0.  0.  0.  0.  0.  0.  0.  0.  0.  0.  0.  0.  0.  0.\n",
            "  0.  0.  0.  0.  0.  0.  0.  0.  0.  0.  0.  0.  0.  0.  0.  0.  0.  0.\n",
            "  0.  0.  0.  0.  0.  0.  0.  0.  0.  1.  2.  1.  0.  0.  0.  2.  2.  0.\n",
            "  4.  5.  2.  6.  8.  6.  7. 10. 18. 24. 27. 32. 31. 33. 40. 40. 51. 52.\n",
            " 30. 18. 18. 12.  8.  6.  0.  1.  2.  1.  0.  0.  0.  0.  0.  0.  0.  0.\n",
            "  0.  0.  0.  0.  0.  0.  0.  0.  0.  0.  0.  0.  0.  0.  0.  0.  0.  0.\n",
            "  0.  0.  0.  0.  0.  0.  0.  0.  0.  0.  0.  0.  0.  0.  0.  0.  0.  0.\n",
            "  0.  0.  0.  0.  0.  0.  0.  0.  0.  0.  0.  0.  0.  0.  0.  0.  0.  0.\n",
            "  0.  0.  0.  0.  0.  0.  0.  0.  0.  0.  0.  0.  0.  0.  0.  0.  0.  0.\n",
            "  0.  0.  0.  0.  0.  0.  0.  0.  0.  0.  0.  0.  0.  0.  0.  0.  0.  0.\n",
            "  0.  0.  0.  0.  0.  0.  0.  0.  0.  0.  0.  0.  0.  0.  0.  0.  0.  0.\n",
            "  0.  0.  0.  0.  0.  0.  0.  0.  0.  0.  0.  0.  0.  0.  0.  0.  0.  0.\n",
            "  0.  0.  0.  0.  0.  0.  0.  0.  0.  0.  0.  0.  0.  0.  0.  0.  0.  0.\n",
            "  0.  0.  0.  0.  0.  0.  0.  0.  0.  0.  0.  0.  0.  0.  0.  0.  0.  0.\n",
            "  0.  0.  0.]\n",
            "donner selon le seuil red: 20\n",
            "donner selon le seuil green: 30\n",
            "donner selon le seuil blue: 30\n"
          ]
        },
        {
          "output_type": "error",
          "ename": "TypeError",
          "evalue": "ignored",
          "traceback": [
            "\u001b[0;31m---------------------------------------------------------------------------\u001b[0m",
            "\u001b[0;31mTypeError\u001b[0m                                 Traceback (most recent call last)",
            "\u001b[0;32m<ipython-input-64-87b4112666fd>\u001b[0m in \u001b[0;36m<module>\u001b[0;34m\u001b[0m\n\u001b[1;32m      3\u001b[0m \u001b[0mseuil_green\u001b[0m\u001b[0;34m=\u001b[0m\u001b[0minput\u001b[0m\u001b[0;34m(\u001b[0m\u001b[0;34m'donner selon le seuil green: '\u001b[0m\u001b[0;34m)\u001b[0m\u001b[0;34m\u001b[0m\u001b[0;34m\u001b[0m\u001b[0m\n\u001b[1;32m      4\u001b[0m \u001b[0mseuil_blue\u001b[0m\u001b[0;34m=\u001b[0m\u001b[0minput\u001b[0m\u001b[0;34m(\u001b[0m\u001b[0;34m'donner selon le seuil blue: '\u001b[0m\u001b[0;34m)\u001b[0m\u001b[0;34m\u001b[0m\u001b[0;34m\u001b[0m\u001b[0m\n\u001b[0;32m----> 5\u001b[0;31m \u001b[0mthresholding\u001b[0m\u001b[0;34m(\u001b[0m\u001b[0mrgb\u001b[0m\u001b[0;34m,\u001b[0m\u001b[0mseuil_red\u001b[0m\u001b[0;34m,\u001b[0m\u001b[0mseuil_green\u001b[0m\u001b[0;34m,\u001b[0m\u001b[0mseuil_blue\u001b[0m\u001b[0;34m)\u001b[0m\u001b[0;34m\u001b[0m\u001b[0;34m\u001b[0m\u001b[0m\n\u001b[0m",
            "\u001b[0;31mTypeError\u001b[0m: thresholding() missing 1 required positional argument: 'option'"
          ]
        }
      ]
    },
    {
      "cell_type": "code",
      "source": [],
      "metadata": {
        "id": "ar-FpveBoVIe"
      },
      "execution_count": null,
      "outputs": []
    }
  ]
}